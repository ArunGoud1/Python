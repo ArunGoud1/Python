{
 "cells": [
  {
   "cell_type": "code",
   "execution_count": 1,
   "id": "9f941abf-a782-4dc2-b809-40e66b8c07a6",
   "metadata": {},
   "outputs": [
    {
     "name": "stdout",
     "output_type": "stream",
     "text": [
      "Requirement already satisfied: numpy in c:\\users\\arung\\anaconda3\\lib\\site-packages (1.26.4)\n"
     ]
    }
   ],
   "source": [
    "!pip install numpy\n"
   ]
  },
  {
   "cell_type": "code",
   "execution_count": 3,
   "id": "9e1483ba-684e-47bc-b045-088f720ef77a",
   "metadata": {},
   "outputs": [],
   "source": [
    "import numpy as np"
   ]
  },
  {
   "cell_type": "code",
   "execution_count": null,
   "id": "ca99b343-593e-46f8-9e95-b2cc85ac0ceb",
   "metadata": {},
   "outputs": [],
   "source": [
    "\n"
   ]
  },
  {
   "cell_type": "code",
   "execution_count": null,
   "id": "10d85c3a-1957-4ef0-8cf2-e74958b91505",
   "metadata": {},
   "outputs": [],
   "source": []
  },
  {
   "cell_type": "markdown",
   "id": "f9f2431d-f09a-48bc-9b0c-66e1df021543",
   "metadata": {},
   "source": [
    "## Numpy :"
   ]
  },
  {
   "cell_type": "markdown",
   "id": "63f49094-6670-486a-b2ed-6d69aeddca5d",
   "metadata": {},
   "source": [
    "- It is a Python library that provides a multidimensional array.\n",
    "- NumPy is an open source mathematical and scientific computing library for Python programming tasks."
   ]
  },
  {
   "cell_type": "code",
   "execution_count": null,
   "id": "4e4fdf30-4fa5-4042-a043-37e27fb44ed4",
   "metadata": {},
   "outputs": [],
   "source": []
  },
  {
   "cell_type": "code",
   "execution_count": 8,
   "id": "99963664-8180-4530-b6d7-f9b032b8afaa",
   "metadata": {},
   "outputs": [
    {
     "name": "stdout",
     "output_type": "stream",
     "text": [
      "Requirement already satisfied: numpy in c:\\users\\arung\\anaconda3\\lib\\site-packages (1.26.4)\n"
     ]
    }
   ],
   "source": [
    "## To access the numpy libraries we should install it.\n",
    "\n",
    "!pip install numpy"
   ]
  },
  {
   "cell_type": "code",
   "execution_count": 10,
   "id": "3c0dde84-1bb8-4db2-bf4e-d21e3d083cea",
   "metadata": {},
   "outputs": [],
   "source": [
    "## to acess numpy import it\n",
    "\n",
    "import numpy as np"
   ]
  },
  {
   "cell_type": "code",
   "execution_count": 12,
   "id": "989b8681-398b-40be-8a65-d0be30f66570",
   "metadata": {},
   "outputs": [],
   "source": [
    "A = np.array([1,2,3])"
   ]
  },
  {
   "cell_type": "code",
   "execution_count": 14,
   "id": "d896de8d-2b55-44b2-952d-cfdf4334969f",
   "metadata": {},
   "outputs": [
    {
     "name": "stdout",
     "output_type": "stream",
     "text": [
      "[1 2 3]\n"
     ]
    }
   ],
   "source": [
    "print(A)"
   ]
  },
  {
   "cell_type": "code",
   "execution_count": null,
   "id": "a4077ead-bfb7-4725-ba7a-f3ffc3b8338a",
   "metadata": {},
   "outputs": [],
   "source": []
  },
  {
   "cell_type": "markdown",
   "id": "dac8b838-e9c3-4573-819c-e4c675742332",
   "metadata": {},
   "source": [
    "- Numpy is Classfied into 3 types :\n",
    "\n",
    " \n",
    "    1) One Dimensional Array.\n",
    "    2) Two Dimenssional Array.\n",
    "    3) Three Dimenssional Array."
   ]
  },
  {
   "cell_type": "code",
   "execution_count": null,
   "id": "078bcb23-ec74-484a-808a-43f0f9544384",
   "metadata": {},
   "outputs": [],
   "source": []
  },
  {
   "cell_type": "markdown",
   "id": "d6487368-1c84-4979-901c-a688147e192f",
   "metadata": {},
   "source": [
    "## One Dimenssional Array :"
   ]
  },
  {
   "cell_type": "markdown",
   "id": "191b3199-5cbd-44e3-be01-0dc0a4676061",
   "metadata": {},
   "source": [
    "- The One-dimensional array contains elements only in one dimension.\n",
    "- One Dimenssional Array deals with only rows.\n",
    "- A One dimensional array, also known as a 1D array,"
   ]
  },
  {
   "cell_type": "code",
   "execution_count": 27,
   "id": "5ecf5cb7-457d-491d-8f36-f9d04e38b59b",
   "metadata": {},
   "outputs": [],
   "source": [
    "A = np.array([7,11])"
   ]
  },
  {
   "cell_type": "code",
   "execution_count": 29,
   "id": "e0712bb8-3440-477b-9bab-7fa1e4e2bfd3",
   "metadata": {},
   "outputs": [
    {
     "name": "stdout",
     "output_type": "stream",
     "text": [
      "[ 7 11]\n"
     ]
    }
   ],
   "source": [
    "print(A)"
   ]
  },
  {
   "cell_type": "code",
   "execution_count": 33,
   "id": "fcc10d18-8f64-41ad-828e-075b3ee4e7d0",
   "metadata": {},
   "outputs": [],
   "source": [
    "h = np.array([100,108])"
   ]
  },
  {
   "cell_type": "code",
   "execution_count": 35,
   "id": "a0071324-415a-4136-9ac1-636f41ad0841",
   "metadata": {},
   "outputs": [
    {
     "name": "stdout",
     "output_type": "stream",
     "text": [
      "[100 108]\n"
     ]
    }
   ],
   "source": [
    "print(h)"
   ]
  },
  {
   "cell_type": "code",
   "execution_count": null,
   "id": "d7a90849-21ae-46af-b5f5-58e2f5cbfcec",
   "metadata": {},
   "outputs": [],
   "source": []
  },
  {
   "cell_type": "markdown",
   "id": "d8ed75e8-d3f4-488f-8e8b-963e794b9269",
   "metadata": {},
   "source": [
    "## Two Dimenssional Array :"
   ]
  },
  {
   "cell_type": "markdown",
   "id": "a8750b20-ed3c-4260-b5ad-0480b8de70d1",
   "metadata": {},
   "source": [
    "- A two-dimensional array, also known as a 2D array.\n",
    "- Two Dimenssional Array deals with  rows and Columns."
   ]
  },
  {
   "cell_type": "code",
   "execution_count": null,
   "id": "dae00f72-68eb-4f9c-bcb3-9eb1d599c028",
   "metadata": {},
   "outputs": [],
   "source": []
  },
  {
   "cell_type": "code",
   "execution_count": 42,
   "id": "2ac25528-2086-4a9b-a095-6fa9daa18e3b",
   "metadata": {},
   "outputs": [],
   "source": [
    "a = np.array([[1,2,3],[4,5,6]])"
   ]
  },
  {
   "cell_type": "code",
   "execution_count": 44,
   "id": "9646ce9f-bbd1-4349-9f4f-9a4261d13758",
   "metadata": {},
   "outputs": [
    {
     "name": "stdout",
     "output_type": "stream",
     "text": [
      "[[1 2 3]\n",
      " [4 5 6]]\n"
     ]
    }
   ],
   "source": [
    "print(a)"
   ]
  },
  {
   "cell_type": "code",
   "execution_count": 64,
   "id": "6718462c-048a-403c-b923-6a77cb1d586b",
   "metadata": {},
   "outputs": [],
   "source": [
    "b = np.array([[3,2,1],[6,5,4]])"
   ]
  },
  {
   "cell_type": "code",
   "execution_count": 66,
   "id": "99b28162-33ea-462f-ad94-a688fe164b6e",
   "metadata": {},
   "outputs": [
    {
     "name": "stdout",
     "output_type": "stream",
     "text": [
      "[[3 2 1]\n",
      " [6 5 4]]\n"
     ]
    }
   ],
   "source": [
    "print(b)"
   ]
  },
  {
   "cell_type": "code",
   "execution_count": null,
   "id": "7a885382-a228-4826-8631-678114adf017",
   "metadata": {},
   "outputs": [],
   "source": []
  },
  {
   "cell_type": "code",
   "execution_count": null,
   "id": "0182759a-f491-48a0-a4fd-f22beffd13de",
   "metadata": {},
   "outputs": [],
   "source": []
  },
  {
   "cell_type": "markdown",
   "id": "50c6f197-32d2-4c75-ba71-bb0625ecbf4d",
   "metadata": {},
   "source": [
    "## Three Dimenssional Array :"
   ]
  },
  {
   "cell_type": "markdown",
   "id": "3e899b88-fc22-45a0-87f0-8d1cf241728a",
   "metadata": {},
   "source": [
    "- A three-dimensional array, also known as a 3D array.\n",
    "- And consists of 3d rows,columns and shapes."
   ]
  },
  {
   "cell_type": "code",
   "execution_count": null,
   "id": "bcb86afe-f5ad-4b5c-aa65-da3e8ccd3605",
   "metadata": {},
   "outputs": [],
   "source": []
  },
  {
   "cell_type": "code",
   "execution_count": 68,
   "id": "cf28f801-bd16-4167-8b40-434d4a23f697",
   "metadata": {},
   "outputs": [],
   "source": [
    "d = np.array([[[1,1,1],[2,2,2],[3,3,3]]]) "
   ]
  },
  {
   "cell_type": "code",
   "execution_count": 70,
   "id": "777417b7-1355-4cf4-b159-4cc141bd9986",
   "metadata": {},
   "outputs": [
    {
     "name": "stdout",
     "output_type": "stream",
     "text": [
      "[[[1 1 1]\n",
      "  [2 2 2]\n",
      "  [3 3 3]]]\n"
     ]
    }
   ],
   "source": [
    "print(d)"
   ]
  },
  {
   "cell_type": "code",
   "execution_count": null,
   "id": "49f13bbe-5fe1-4fcb-a664-e5de7147b930",
   "metadata": {},
   "outputs": [],
   "source": []
  },
  {
   "cell_type": "code",
   "execution_count": null,
   "id": "c2c15eea-efac-4075-ad37-b5ef8087f566",
   "metadata": {},
   "outputs": [],
   "source": []
  },
  {
   "cell_type": "markdown",
   "id": "fdb44e00-23b7-431a-926c-cf58a028d088",
   "metadata": {},
   "source": [
    "## Placeholder :"
   ]
  },
  {
   "cell_type": "markdown",
   "id": "7efb1977-e985-482f-ac10-ef8f2ad198a6",
   "metadata": {},
   "source": [
    "- Placeholder.\n",
    "   1) Zeros\n",
    "   2) Ones "
   ]
  },
  {
   "cell_type": "markdown",
   "id": "ee8a803f-13b9-4ed4-bb12-af10f8882bc5",
   "metadata": {},
   "source": [
    "## * Zeros :"
   ]
  },
  {
   "cell_type": "markdown",
   "id": "98abba94-617e-4e6c-ad57-e348d60ed854",
   "metadata": {},
   "source": [
    "- This function is used to replace the matrix values to zeros because it is called as \"Zeros\"."
   ]
  },
  {
   "cell_type": "code",
   "execution_count": 97,
   "id": "bc32440c-260b-4077-996f-6e04962ab4d7",
   "metadata": {},
   "outputs": [],
   "source": [
    "A = np.zeros([5,2,3])"
   ]
  },
  {
   "cell_type": "code",
   "execution_count": 99,
   "id": "a7565b10-24cd-4c16-998a-4f630ca3088e",
   "metadata": {},
   "outputs": [
    {
     "name": "stdout",
     "output_type": "stream",
     "text": [
      "[[[0. 0. 0.]\n",
      "  [0. 0. 0.]]\n",
      "\n",
      " [[0. 0. 0.]\n",
      "  [0. 0. 0.]]\n",
      "\n",
      " [[0. 0. 0.]\n",
      "  [0. 0. 0.]]\n",
      "\n",
      " [[0. 0. 0.]\n",
      "  [0. 0. 0.]]\n",
      "\n",
      " [[0. 0. 0.]\n",
      "  [0. 0. 0.]]]\n"
     ]
    }
   ],
   "source": [
    "print(A)"
   ]
  },
  {
   "cell_type": "code",
   "execution_count": 113,
   "id": "bb03466d-d36b-4732-bb8c-67ab9fe297e6",
   "metadata": {},
   "outputs": [],
   "source": [
    "b= np.zeros([2,5,9])"
   ]
  },
  {
   "cell_type": "code",
   "execution_count": 117,
   "id": "7c581f4d-14ce-43f7-9b0e-136ffc67de73",
   "metadata": {},
   "outputs": [
    {
     "name": "stdout",
     "output_type": "stream",
     "text": [
      "[[[0. 0. 0. 0. 0. 0. 0. 0. 0.]\n",
      "  [0. 0. 0. 0. 0. 0. 0. 0. 0.]\n",
      "  [0. 0. 0. 0. 0. 0. 0. 0. 0.]\n",
      "  [0. 0. 0. 0. 0. 0. 0. 0. 0.]\n",
      "  [0. 0. 0. 0. 0. 0. 0. 0. 0.]]\n",
      "\n",
      " [[0. 0. 0. 0. 0. 0. 0. 0. 0.]\n",
      "  [0. 0. 0. 0. 0. 0. 0. 0. 0.]\n",
      "  [0. 0. 0. 0. 0. 0. 0. 0. 0.]\n",
      "  [0. 0. 0. 0. 0. 0. 0. 0. 0.]\n",
      "  [0. 0. 0. 0. 0. 0. 0. 0. 0.]]]\n"
     ]
    }
   ],
   "source": [
    "print(b)"
   ]
  },
  {
   "cell_type": "code",
   "execution_count": null,
   "id": "57c412a1-dc64-449e-8611-546d30c50f5c",
   "metadata": {},
   "outputs": [],
   "source": []
  },
  {
   "cell_type": "code",
   "execution_count": null,
   "id": "3f419f47-98d0-490e-92b4-d6505a32e669",
   "metadata": {},
   "outputs": [],
   "source": []
  },
  {
   "cell_type": "code",
   "execution_count": null,
   "id": "76cec14f-abac-4a4e-a7a7-d02d8b956086",
   "metadata": {},
   "outputs": [],
   "source": []
  },
  {
   "cell_type": "markdown",
   "id": "71c03f91-1a59-49a8-9fe0-82af5af3a5a0",
   "metadata": {},
   "source": [
    "## * Ones :"
   ]
  },
  {
   "cell_type": "code",
   "execution_count": 103,
   "id": "fba71e9f-e7f0-4fc5-8a90-bbed58b3991c",
   "metadata": {},
   "outputs": [],
   "source": [
    "A= np.ones([5,2,3])"
   ]
  },
  {
   "cell_type": "code",
   "execution_count": 105,
   "id": "db6e0295-08ba-4b06-afd7-4c4ee7401306",
   "metadata": {},
   "outputs": [
    {
     "name": "stdout",
     "output_type": "stream",
     "text": [
      "[[[1. 1. 1.]\n",
      "  [1. 1. 1.]]\n",
      "\n",
      " [[1. 1. 1.]\n",
      "  [1. 1. 1.]]\n",
      "\n",
      " [[1. 1. 1.]\n",
      "  [1. 1. 1.]]\n",
      "\n",
      " [[1. 1. 1.]\n",
      "  [1. 1. 1.]]\n",
      "\n",
      " [[1. 1. 1.]\n",
      "  [1. 1. 1.]]]\n"
     ]
    }
   ],
   "source": [
    "print(A)"
   ]
  },
  {
   "cell_type": "code",
   "execution_count": null,
   "id": "4a74e4b1-8b28-4bee-bbb3-96bf7c1bd6eb",
   "metadata": {},
   "outputs": [],
   "source": []
  },
  {
   "cell_type": "code",
   "execution_count": 127,
   "id": "9c5822f3-ef8e-4e33-a078-b956f14a513a",
   "metadata": {},
   "outputs": [],
   "source": [
    "s = np.ones([2,5,5])"
   ]
  },
  {
   "cell_type": "code",
   "execution_count": 129,
   "id": "005951e3-fbd4-4271-9ad4-ae7c83974911",
   "metadata": {},
   "outputs": [
    {
     "name": "stdout",
     "output_type": "stream",
     "text": [
      "[[[1. 1. 1. 1. 1.]\n",
      "  [1. 1. 1. 1. 1.]\n",
      "  [1. 1. 1. 1. 1.]\n",
      "  [1. 1. 1. 1. 1.]\n",
      "  [1. 1. 1. 1. 1.]]\n",
      "\n",
      " [[1. 1. 1. 1. 1.]\n",
      "  [1. 1. 1. 1. 1.]\n",
      "  [1. 1. 1. 1. 1.]\n",
      "  [1. 1. 1. 1. 1.]\n",
      "  [1. 1. 1. 1. 1.]]]\n"
     ]
    }
   ],
   "source": [
    "print(s)"
   ]
  },
  {
   "cell_type": "code",
   "execution_count": null,
   "id": "7225a6bc-9fed-4a7f-9f17-162c96fef991",
   "metadata": {},
   "outputs": [],
   "source": []
  },
  {
   "cell_type": "code",
   "execution_count": null,
   "id": "3d7b82c0-1e5b-42a5-a7a5-fc863cabc5e4",
   "metadata": {},
   "outputs": [],
   "source": []
  },
  {
   "cell_type": "markdown",
   "id": "1fff1267-ff6d-419f-a8a9-9b74ddbdf112",
   "metadata": {},
   "source": [
    "##  Create Evenly Spaced Values :"
   ]
  },
  {
   "cell_type": "code",
   "execution_count": null,
   "id": "f2c6319c-438b-4e7e-8cb3-9396288b164e",
   "metadata": {},
   "outputs": [],
   "source": []
  },
  {
   "cell_type": "code",
   "execution_count": 155,
   "id": "b3665e53-73ee-436d-badf-9cb781ec2988",
   "metadata": {},
   "outputs": [],
   "source": [
    "q= np.arange(11,50,4)"
   ]
  },
  {
   "cell_type": "code",
   "execution_count": 157,
   "id": "29a3f96c-072b-4e3a-90ae-b4315198efe0",
   "metadata": {},
   "outputs": [
    {
     "name": "stdout",
     "output_type": "stream",
     "text": [
      "[11 15 19 23 27 31 35 39 43 47]\n"
     ]
    }
   ],
   "source": [
    "print(q)"
   ]
  },
  {
   "cell_type": "code",
   "execution_count": null,
   "id": "2c0887f2-7845-4f40-b636-a03c0dd13b2c",
   "metadata": {},
   "outputs": [],
   "source": []
  },
  {
   "cell_type": "code",
   "execution_count": 159,
   "id": "d953ec48-edef-4fca-8797-0530e8a81f1b",
   "metadata": {},
   "outputs": [],
   "source": [
    "d = np.arange(100,1000,20)"
   ]
  },
  {
   "cell_type": "code",
   "execution_count": 161,
   "id": "98a2aaf9-dab2-4e81-873a-f300e1418a81",
   "metadata": {},
   "outputs": [
    {
     "name": "stdout",
     "output_type": "stream",
     "text": [
      "[100 120 140 160 180 200 220 240 260 280 300 320 340 360 380 400 420 440\n",
      " 460 480 500 520 540 560 580 600 620 640 660 680 700 720 740 760 780 800\n",
      " 820 840 860 880 900 920 940 960 980]\n"
     ]
    }
   ],
   "source": [
    "print(d)"
   ]
  },
  {
   "cell_type": "code",
   "execution_count": null,
   "id": "cc90f860-cc2d-4740-b4cb-af1e7099eb67",
   "metadata": {},
   "outputs": [],
   "source": []
  },
  {
   "cell_type": "code",
   "execution_count": 237,
   "id": "c44a5d4e-0955-4d16-ad62-036cee1cae5a",
   "metadata": {},
   "outputs": [],
   "source": [
    "y = np.arange(1,1000,142)"
   ]
  },
  {
   "cell_type": "code",
   "execution_count": 239,
   "id": "09f62f2d-c552-489f-8f2e-ecbd241e165e",
   "metadata": {},
   "outputs": [
    {
     "name": "stdout",
     "output_type": "stream",
     "text": [
      "[  1 143 285 427 569 711 853 995]\n"
     ]
    }
   ],
   "source": [
    "print(y)"
   ]
  },
  {
   "cell_type": "code",
   "execution_count": null,
   "id": "fc4abd73-51c2-4399-b945-da05e6d83297",
   "metadata": {},
   "outputs": [],
   "source": []
  },
  {
   "cell_type": "code",
   "execution_count": 214,
   "id": "359fdb11-4752-4c87-a8e2-66885cb9a823",
   "metadata": {},
   "outputs": [],
   "source": [
    "r = np.arange(10,100,5)"
   ]
  },
  {
   "cell_type": "code",
   "execution_count": 216,
   "id": "58e89c5f-7cdf-478c-b83d-8c6525b000f3",
   "metadata": {},
   "outputs": [
    {
     "name": "stdout",
     "output_type": "stream",
     "text": [
      "[10 15 20 25 30 35 40 45 50 55 60 65 70 75 80 85 90 95]\n"
     ]
    }
   ],
   "source": [
    "print(r)"
   ]
  },
  {
   "cell_type": "code",
   "execution_count": null,
   "id": "f2895548-dd4b-4ca2-bfee-e35f6a14f093",
   "metadata": {},
   "outputs": [],
   "source": []
  },
  {
   "cell_type": "code",
   "execution_count": null,
   "id": "abab523c-8f59-41d2-90b1-79af796cc475",
   "metadata": {},
   "outputs": [],
   "source": []
  },
  {
   "cell_type": "markdown",
   "id": "679120bb-550d-494f-aff5-ff88b67f0ef0",
   "metadata": {},
   "source": [
    "## evenly spaced samples:"
   ]
  },
  {
   "cell_type": "code",
   "execution_count": null,
   "id": "793d1bdf-ada3-4af0-a78d-b9d62fe7f8c7",
   "metadata": {},
   "outputs": [],
   "source": []
  },
  {
   "cell_type": "code",
   "execution_count": 254,
   "id": "4ee7a60e-da06-42a8-bcd6-309cde7a236b",
   "metadata": {},
   "outputs": [],
   "source": [
    "k = np.linspace(1,20,40)   #(starting point ,Ending point,how many times it should divide)"
   ]
  },
  {
   "cell_type": "code",
   "execution_count": 256,
   "id": "b7d2ac02-efa1-40d4-bac7-aa62663e7077",
   "metadata": {},
   "outputs": [
    {
     "name": "stdout",
     "output_type": "stream",
     "text": [
      "[ 1.          1.48717949  1.97435897  2.46153846  2.94871795  3.43589744\n",
      "  3.92307692  4.41025641  4.8974359   5.38461538  5.87179487  6.35897436\n",
      "  6.84615385  7.33333333  7.82051282  8.30769231  8.79487179  9.28205128\n",
      "  9.76923077 10.25641026 10.74358974 11.23076923 11.71794872 12.20512821\n",
      " 12.69230769 13.17948718 13.66666667 14.15384615 14.64102564 15.12820513\n",
      " 15.61538462 16.1025641  16.58974359 17.07692308 17.56410256 18.05128205\n",
      " 18.53846154 19.02564103 19.51282051 20.        ]\n"
     ]
    }
   ],
   "source": [
    "print(k)"
   ]
  },
  {
   "cell_type": "code",
   "execution_count": null,
   "id": "cf2f99e5-7de0-4f50-ac52-cf507b0d57c1",
   "metadata": {},
   "outputs": [],
   "source": []
  },
  {
   "cell_type": "code",
   "execution_count": 258,
   "id": "d30cc13c-71f5-4fb4-b41d-9e0a67b46113",
   "metadata": {},
   "outputs": [],
   "source": [
    "A = np.linspace(100,1000,10)"
   ]
  },
  {
   "cell_type": "code",
   "execution_count": 260,
   "id": "75f15e39-4795-460f-ac51-10b4c7a84fde",
   "metadata": {},
   "outputs": [
    {
     "name": "stdout",
     "output_type": "stream",
     "text": [
      "[ 100.  200.  300.  400.  500.  600.  700.  800.  900. 1000.]\n"
     ]
    }
   ],
   "source": [
    "print(A)"
   ]
  },
  {
   "cell_type": "raw",
   "id": "0e08eb29-b3b9-4235-870f-0128011c3d18",
   "metadata": {},
   "source": [
    "print(d)"
   ]
  }
 ],
 "metadata": {
  "kernelspec": {
   "display_name": "Python 3 (ipykernel)",
   "language": "python",
   "name": "python3"
  },
  "language_info": {
   "codemirror_mode": {
    "name": "ipython",
    "version": 3
   },
   "file_extension": ".py",
   "mimetype": "text/x-python",
   "name": "python",
   "nbconvert_exporter": "python",
   "pygments_lexer": "ipython3",
   "version": "3.12.4"
  }
 },
 "nbformat": 4,
 "nbformat_minor": 5
}
