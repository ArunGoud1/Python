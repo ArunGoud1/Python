{
 "cells": [
  {
   "cell_type": "code",
   "execution_count": null,
   "id": "d9a71229-330c-4ee5-a745-6eb9a28f6a75",
   "metadata": {},
   "outputs": [],
   "source": []
  },
  {
   "cell_type": "markdown",
   "id": "007b4864-1b61-4563-828f-df82a73b40b9",
   "metadata": {},
   "source": [
    "##  Define Tuples"
   ]
  },
  {
   "cell_type": "markdown",
   "id": "f5071e72-56ee-46b1-97d1-0aa58e90ca67",
   "metadata": {},
   "source": [
    "- Python Tuple is a collection of Python Programming objects much like a list.\n",
    "- The data type that represents an ordered, immutable and sequence of elements\n",
    "- Similar to lists but the only difference is tuples and cannot be modified\n",
    "- Defines using paranthesis ()\n",
    "- seperated by commas \",\""
   ]
  },
  {
   "cell_type": "code",
   "execution_count": null,
   "id": "65808a4c-8b3b-493a-aff4-ca2164a24593",
   "metadata": {},
   "outputs": [],
   "source": []
  },
  {
   "cell_type": "markdown",
   "id": "32ff0745-2dff-49b3-a252-9b7de7a14704",
   "metadata": {},
   "source": [
    "## Features of tuples"
   ]
  },
  {
   "cell_type": "markdown",
   "id": "6f7a8ea2-31ab-4b8c-a537-265157266ecf",
   "metadata": {},
   "source": [
    "- Tuple are Immutable.\n",
    "- Each element in a tuple has a specified order that will never change becoz tuples are ordered sequences"
   ]
  },
  {
   "cell_type": "code",
   "execution_count": null,
   "id": "bee5cdc9-1ad0-4f60-9591-0512e6cc624a",
   "metadata": {},
   "outputs": [],
   "source": []
  },
  {
   "cell_type": "markdown",
   "id": "4bf7b6e2-7928-4cf9-a170-a61ed1fc71ff",
   "metadata": {},
   "source": [
    "## Examples"
   ]
  },
  {
   "cell_type": "code",
   "execution_count": null,
   "id": "62aec602-dd26-4d99-8c34-b0cd3ac55a3d",
   "metadata": {},
   "outputs": [],
   "source": []
  },
  {
   "cell_type": "code",
   "execution_count": 18,
   "id": "bf4ed901-092c-4ab4-9a06-267a2c650083",
   "metadata": {},
   "outputs": [
    {
     "name": "stdout",
     "output_type": "stream",
     "text": [
      "\n",
      "Tuple with the use of function: \n",
      "('A', 'r', 'u', 'n', '_', 'G', 'o', 'u', 'd')\n"
     ]
    }
   ],
   "source": [
    "## ex 1\n",
    "\n",
    "A = tuple('Arun_Goud')\n",
    "print(\"\\nTuple with the use of function: \")\n",
    "print(A)"
   ]
  },
  {
   "cell_type": "code",
   "execution_count": null,
   "id": "5e7e73c9-4538-4ef5-84d2-97a11aee1da0",
   "metadata": {},
   "outputs": [],
   "source": []
  },
  {
   "cell_type": "code",
   "execution_count": 28,
   "id": "6084b7d8-8f00-4edc-a728-f79b2fd91e30",
   "metadata": {},
   "outputs": [
    {
     "name": "stdout",
     "output_type": "stream",
     "text": [
      "\n",
      "Tuple using List: \n",
      "(0, 2, 4, 6, 8, 10, 12, 14, 16, 18, 20)\n"
     ]
    }
   ],
   "source": [
    "list = [0,2,4,6,8,10,12,14,16,18,20]\n",
    "print(\"\\nTuple using List: \")\n",
    "print(tuple(list))"
   ]
  },
  {
   "cell_type": "code",
   "execution_count": null,
   "id": "c0a1cf62-9ccd-4f75-9cfe-6fd3dce87a41",
   "metadata": {},
   "outputs": [],
   "source": []
  },
  {
   "cell_type": "code",
   "execution_count": 30,
   "id": "3d265185-9405-46a6-b7ff-4536bfa3e207",
   "metadata": {},
   "outputs": [
    {
     "name": "stdout",
     "output_type": "stream",
     "text": [
      "('apple', 'banana', 'cherry')\n"
     ]
    }
   ],
   "source": [
    "mytuple = (\"apple\", \"banana\", \"cherry\")\n",
    "print(mytuple)"
   ]
  },
  {
   "cell_type": "code",
   "execution_count": null,
   "id": "faadaa4e-50ef-472a-8cd0-3a5a7c6c9b3e",
   "metadata": {},
   "outputs": [],
   "source": []
  },
  {
   "cell_type": "code",
   "execution_count": 36,
   "id": "8c652357-2617-4747-91c5-0498259211ef",
   "metadata": {},
   "outputs": [
    {
     "name": "stdout",
     "output_type": "stream",
     "text": [
      "<class 'tuple'>\n",
      "<class 'tuple'>\n",
      "<class 'tuple'>\n"
     ]
    }
   ],
   "source": [
    "A = (\"apple\", \"banana\", \"cherry\")\n",
    "B = (1, 5, 7, 9, 3)\n",
    "C = (True, False, False)\n",
    "print(type(A))\n",
    "print(type(B))\n",
    "print(type(C))"
   ]
  },
  {
   "cell_type": "code",
   "execution_count": null,
   "id": "f8ffda9a-2ffb-4c2a-8698-29a51936fb90",
   "metadata": {},
   "outputs": [],
   "source": []
  },
  {
   "cell_type": "code",
   "execution_count": null,
   "id": "3dc377b3-ea90-462c-9ba8-7a61f5bae46b",
   "metadata": {},
   "outputs": [],
   "source": []
  },
  {
   "cell_type": "markdown",
   "id": "ae261a9e-7f74-4fac-9c6f-752ddcda9525",
   "metadata": {},
   "source": [
    "##  Accessing of tuples"
   ]
  },
  {
   "cell_type": "markdown",
   "id": "1626302a-6232-401e-a0fd-f3f1cfa6809e",
   "metadata": {},
   "source": [
    "- supports only indexing and slicing"
   ]
  },
  {
   "cell_type": "code",
   "execution_count": 62,
   "id": "4bd5522b-171e-4298-9c23-def6a107e51a",
   "metadata": {},
   "outputs": [
    {
     "name": "stdout",
     "output_type": "stream",
     "text": [
      "cherry\n"
     ]
    }
   ],
   "source": [
    "A = (\"apple\", \"banana\", \"cherry\")\n",
    "print(A[2])"
   ]
  },
  {
   "cell_type": "code",
   "execution_count": 64,
   "id": "6b8f801d-60c4-425d-8645-afb82ab75859",
   "metadata": {},
   "outputs": [
    {
     "name": "stdout",
     "output_type": "stream",
     "text": [
      "apple\n"
     ]
    }
   ],
   "source": [
    "print(A[0])"
   ]
  },
  {
   "cell_type": "code",
   "execution_count": null,
   "id": "689e0389-b0da-4313-892e-71eb94e5a0ff",
   "metadata": {},
   "outputs": [],
   "source": []
  },
  {
   "cell_type": "code",
   "execution_count": 68,
   "id": "3e3854cb-a43c-401c-af57-3bd2f5edd9e7",
   "metadata": {},
   "outputs": [
    {
     "name": "stdout",
     "output_type": "stream",
     "text": [
      "('banana', 'mango', 'watermelon', 'papaya')\n"
     ]
    }
   ],
   "source": [
    "B = (\"apple\", \"banana\", \"mango\",\"watermelon\",\"papaya\",\"dragonfruit\",\"strawberry\")\n",
    "print(B[1:5])"
   ]
  },
  {
   "cell_type": "code",
   "execution_count": 72,
   "id": "e35fb4a8-4b47-44a9-a30e-3e1be9de7d3d",
   "metadata": {},
   "outputs": [
    {
     "name": "stdout",
     "output_type": "stream",
     "text": [
      "('apple', 'banana', 'mango', 'watermelon', 'papaya')\n"
     ]
    }
   ],
   "source": [
    "print(B[0:5])"
   ]
  },
  {
   "cell_type": "code",
   "execution_count": 74,
   "id": "dcc79340-15b6-4791-9469-100b20665c3a",
   "metadata": {},
   "outputs": [
    {
     "name": "stdout",
     "output_type": "stream",
     "text": [
      "('banana', 'mango')\n"
     ]
    }
   ],
   "source": [
    "print(B[1:3])"
   ]
  },
  {
   "cell_type": "code",
   "execution_count": 76,
   "id": "96b39061-b0cc-466a-b1a7-4bff43da3280",
   "metadata": {},
   "outputs": [
    {
     "name": "stdout",
     "output_type": "stream",
     "text": [
      "('apple', 'banana', 'mango', 'watermelon', 'papaya', 'dragonfruit', 'strawberry')\n"
     ]
    }
   ],
   "source": [
    "print(B[:7])"
   ]
  },
  {
   "cell_type": "code",
   "execution_count": null,
   "id": "bc4daf41-071b-4175-997d-9108b12355fb",
   "metadata": {},
   "outputs": [],
   "source": []
  },
  {
   "cell_type": "code",
   "execution_count": null,
   "id": "8a065822-04d4-458b-a625-ae0361eec4ce",
   "metadata": {},
   "outputs": [],
   "source": []
  },
  {
   "cell_type": "markdown",
   "id": "f316517f-80da-485f-afff-621357720b9c",
   "metadata": {},
   "source": [
    "## Tuple Operation"
   ]
  },
  {
   "cell_type": "markdown",
   "id": "57380a99-7582-4501-85e4-b5991bd86961",
   "metadata": {},
   "source": [
    "- tuple operation are mainly 2 types.\n",
    "\n",
    "  1) concatination\n",
    "  2) Repeation"
   ]
  },
  {
   "cell_type": "code",
   "execution_count": null,
   "id": "0236e9e6-a122-4945-9199-0e1b28f071f8",
   "metadata": {},
   "outputs": [],
   "source": []
  },
  {
   "cell_type": "markdown",
   "id": "394f0dc5-a95f-43e3-955d-485a25a1b065",
   "metadata": {},
   "source": [
    "## Concatination"
   ]
  },
  {
   "cell_type": "markdown",
   "id": "91c83996-21e3-44c7-9c1f-e64d2bb4e03c",
   "metadata": {},
   "source": [
    "- concatination means combining the 2 tuples is called concatination"
   ]
  },
  {
   "cell_type": "code",
   "execution_count": 91,
   "id": "678252c5-da8d-478f-93e9-2e8397cd856c",
   "metadata": {},
   "outputs": [
    {
     "name": "stdout",
     "output_type": "stream",
     "text": [
      "(1, 4, 3, 'Arun', 'Keerthi')\n"
     ]
    }
   ],
   "source": [
    "A=(1,4,3)\n",
    "B=(\"Arun\",\"Keerthi\")\n",
    "result=A+B\n",
    "print(result)"
   ]
  },
  {
   "cell_type": "code",
   "execution_count": null,
   "id": "a66c47b1-597b-4b43-83e2-94a24b1ee458",
   "metadata": {},
   "outputs": [],
   "source": []
  },
  {
   "cell_type": "code",
   "execution_count": 95,
   "id": "f1e58cce-2d65-41c9-b5e2-76282d55b55a",
   "metadata": {},
   "outputs": [
    {
     "name": "stdout",
     "output_type": "stream",
     "text": [
      "(1, 2, 3, 4, 5, 20, 9, 10, 11, 12)\n"
     ]
    }
   ],
   "source": [
    "a=(1,2,3,4,5,20)\n",
    "b=(9,10,11,12)\n",
    "ak=a+b\n",
    "print(ak)"
   ]
  },
  {
   "cell_type": "code",
   "execution_count": null,
   "id": "a5d693db-6fcc-4ad6-988b-333ec03c22af",
   "metadata": {},
   "outputs": [],
   "source": []
  },
  {
   "cell_type": "code",
   "execution_count": null,
   "id": "453269f9-fa39-42ea-b9b3-d41c6759c451",
   "metadata": {},
   "outputs": [],
   "source": []
  },
  {
   "cell_type": "markdown",
   "id": "3751d4cc-c3df-42eb-86c7-9f7bd0718b3c",
   "metadata": {},
   "source": [
    "##  Repetition"
   ]
  },
  {
   "cell_type": "markdown",
   "id": "e7eb86bd-392d-42f2-b024-7e5409b53075",
   "metadata": {},
   "source": [
    "- Repetition means it repeats the tuple."
   ]
  },
  {
   "cell_type": "code",
   "execution_count": null,
   "id": "65ca3fc2-33a3-45c5-9fee-942b8208ad9e",
   "metadata": {},
   "outputs": [],
   "source": []
  },
  {
   "cell_type": "code",
   "execution_count": 108,
   "id": "100649ae-7986-4706-beb5-f92ad6c4bfc3",
   "metadata": {},
   "outputs": [
    {
     "name": "stdout",
     "output_type": "stream",
     "text": [
      "(1, 2, 3, 4, 5, 6, 7, 8, 9, 10, 1, 2, 3, 4, 5, 6, 7, 8, 9, 10)\n"
     ]
    }
   ],
   "source": [
    "A = (1,2,3,4,5,6,7,8,9,10)\n",
    "print(A*2)"
   ]
  },
  {
   "cell_type": "code",
   "execution_count": null,
   "id": "166ba820-f1ea-45c4-a046-c1c0144c3a0e",
   "metadata": {},
   "outputs": [],
   "source": []
  },
  {
   "cell_type": "code",
   "execution_count": 116,
   "id": "a7a264bb-9722-42e2-9f9e-6338594795ee",
   "metadata": {},
   "outputs": [
    {
     "name": "stdout",
     "output_type": "stream",
     "text": [
      "('Arun', 'Akhil', 'Jagadeesh', 'Salman', 'Rushi', 'Arun', 'Akhil', 'Jagadeesh', 'Salman', 'Rushi', 'Arun', 'Akhil', 'Jagadeesh', 'Salman', 'Rushi', 'Arun', 'Akhil', 'Jagadeesh', 'Salman', 'Rushi')\n"
     ]
    }
   ],
   "source": [
    "a = (\"Arun\",\"Akhil\",\"Jagadeesh\",\"Salman\",\"Rushi\")\n",
    "\n",
    "print(a*4)"
   ]
  },
  {
   "cell_type": "code",
   "execution_count": null,
   "id": "cf792016-6030-48a3-a3ac-0db2ed81a979",
   "metadata": {},
   "outputs": [],
   "source": []
  },
  {
   "cell_type": "code",
   "execution_count": 122,
   "id": "1dc2b13f-4c38-4b88-9ff6-3ce03234b8ed",
   "metadata": {},
   "outputs": [
    {
     "name": "stdout",
     "output_type": "stream",
     "text": [
      "(100, 99, 88, 77, 66, 100, 99, 88, 77, 66, 100, 99, 88, 77, 66, 100, 99, 88, 77, 66)\n"
     ]
    }
   ],
   "source": [
    "tuple2=(100,99,88,77,66)\n",
    "result=tuple2*4\n",
    "print(result)"
   ]
  },
  {
   "cell_type": "code",
   "execution_count": null,
   "id": "5c1cd1b2-3fe3-460d-81dd-cf690cedc6cb",
   "metadata": {},
   "outputs": [],
   "source": []
  },
  {
   "cell_type": "code",
   "execution_count": null,
   "id": "352a8395-e836-4bbe-ba6d-8a790832435a",
   "metadata": {},
   "outputs": [],
   "source": []
  },
  {
   "cell_type": "markdown",
   "id": "11fbf3b0-544d-464c-9131-f7e7c7d0dcca",
   "metadata": {},
   "source": [
    "## Methods"
   ]
  },
  {
   "cell_type": "markdown",
   "id": "e40903f2-81e8-460f-88db-5e179890d367",
   "metadata": {},
   "source": [
    "- methods are classified into\n",
    "\n",
    "   1) count()\n",
    "   2) index()"
   ]
  },
  {
   "cell_type": "code",
   "execution_count": null,
   "id": "37fab740-c929-4009-a44e-78feee2d7848",
   "metadata": {},
   "outputs": [],
   "source": []
  },
  {
   "cell_type": "markdown",
   "id": "2b8a0e7a-5b59-4187-8db5-fcf2eb19797f",
   "metadata": {},
   "source": [
    "## -- count()"
   ]
  },
  {
   "cell_type": "markdown",
   "id": "85ab7c5f-007c-430c-98ce-5414fcf5a01c",
   "metadata": {},
   "source": [
    "- returns the number of occurences of specified value"
   ]
  },
  {
   "cell_type": "code",
   "execution_count": 138,
   "id": "ca2d928a-15d0-4a9b-b161-fd7b2b194c8a",
   "metadata": {},
   "outputs": [
    {
     "name": "stdout",
     "output_type": "stream",
     "text": [
      "2\n"
     ]
    }
   ],
   "source": [
    "A = (1, 2, 2, 3)\n",
    "print(A.count(2))  "
   ]
  },
  {
   "cell_type": "code",
   "execution_count": 146,
   "id": "c5422866-c0f2-45cc-9f16-3eceb142c188",
   "metadata": {},
   "outputs": [
    {
     "name": "stdout",
     "output_type": "stream",
     "text": [
      "4\n"
     ]
    }
   ],
   "source": [
    "B = (1, 2, 2, 3,5,4,5,5,5,1,8,6)\n",
    "print(B.count(5)) "
   ]
  },
  {
   "cell_type": "code",
   "execution_count": null,
   "id": "1fb3f8ce-fc2f-463e-bad2-b31e1a1ba871",
   "metadata": {},
   "outputs": [],
   "source": []
  },
  {
   "cell_type": "code",
   "execution_count": 144,
   "id": "5bf3c75b-4ccc-4dbb-bdd3-3e7ee782beba",
   "metadata": {},
   "outputs": [
    {
     "name": "stdout",
     "output_type": "stream",
     "text": [
      "2\n"
     ]
    }
   ],
   "source": [
    "fruits = ('apple', 'banana', 'orange', 'apple', 'kiwi')\n",
    "print(fruits.count('apple')) "
   ]
  },
  {
   "cell_type": "code",
   "execution_count": 148,
   "id": "73b0f973-d7f9-456e-ac5c-f048057fad28",
   "metadata": {},
   "outputs": [
    {
     "name": "stdout",
     "output_type": "stream",
     "text": [
      "3\n",
      "1\n"
     ]
    }
   ],
   "source": [
    "numbers = (1, 2, 3, 1, 4, 1)\n",
    "print(numbers.count(1))  \n",
    "print(numbers.count(3))"
   ]
  },
  {
   "cell_type": "code",
   "execution_count": null,
   "id": "008baa24-4211-40a1-8b96-b5d6e5530ed7",
   "metadata": {},
   "outputs": [],
   "source": []
  },
  {
   "cell_type": "code",
   "execution_count": null,
   "id": "d1b80fb0-a054-4478-8b95-eb750220a848",
   "metadata": {},
   "outputs": [],
   "source": []
  },
  {
   "cell_type": "markdown",
   "id": "691c568c-8715-4a05-b2b5-9d3fea6867f4",
   "metadata": {},
   "source": [
    "##  index()"
   ]
  },
  {
   "cell_type": "markdown",
   "id": "16de92e6-fae5-46db-95a9-0d0ef0e446f9",
   "metadata": {},
   "source": [
    "- Return the index of the first occurence of specified value"
   ]
  },
  {
   "cell_type": "code",
   "execution_count": 157,
   "id": "c1fc94c3-3c07-48d3-9552-f204ed1f5586",
   "metadata": {},
   "outputs": [
    {
     "name": "stdout",
     "output_type": "stream",
     "text": [
      "2\n"
     ]
    }
   ],
   "source": [
    "f = ('dragon fruit', 'banana', 'apple', 'orange')\n",
    "i = f.index('apple')\n",
    "print(i)"
   ]
  },
  {
   "cell_type": "code",
   "execution_count": null,
   "id": "a5463c4f-9f3d-4722-aac8-59c3699e7c16",
   "metadata": {},
   "outputs": [],
   "source": []
  },
  {
   "cell_type": "code",
   "execution_count": null,
   "id": "6ffe8561-61e9-4e31-914a-4a8227091f75",
   "metadata": {},
   "outputs": [],
   "source": []
  },
  {
   "cell_type": "code",
   "execution_count": 163,
   "id": "02b91522-7ff4-4e32-acbd-820ea717759d",
   "metadata": {},
   "outputs": [
    {
     "name": "stdout",
     "output_type": "stream",
     "text": [
      "7\n"
     ]
    }
   ],
   "source": [
    "names = (\"Arun\",\"salman\",\"rushi\",\"naveen\",\"jagadesh\",\"manikanta\",\"vamshi\",\"riyaa\")\n",
    "index_i =names.index(\"riyaa\")\n",
    "print(index_i)"
   ]
  },
  {
   "cell_type": "code",
   "execution_count": null,
   "id": "4485fb5b-d34c-48b6-a629-d1cca182d107",
   "metadata": {},
   "outputs": [],
   "source": []
  }
 ],
 "metadata": {
  "kernelspec": {
   "display_name": "Python 3 (ipykernel)",
   "language": "python",
   "name": "python3"
  },
  "language_info": {
   "codemirror_mode": {
    "name": "ipython",
    "version": 3
   },
   "file_extension": ".py",
   "mimetype": "text/x-python",
   "name": "python",
   "nbconvert_exporter": "python",
   "pygments_lexer": "ipython3",
   "version": "3.12.4"
  }
 },
 "nbformat": 4,
 "nbformat_minor": 5
}
