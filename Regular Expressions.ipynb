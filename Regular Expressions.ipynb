{
 "cells": [
  {
   "cell_type": "markdown",
   "id": "098b6272-9a23-495e-a4f2-5ddd010d800d",
   "metadata": {},
   "source": [
    "## Regular Expression."
   ]
  },
  {
   "cell_type": "markdown",
   "id": "20e11616-7f51-4ba6-b22c-b5bcfba00696",
   "metadata": {},
   "source": [
    "- we can easily clean the data.\n",
    "- used for pattern matching , text manipulation\n",
    "- flexible way to search ,match,manipulate the text data"
   ]
  },
  {
   "cell_type": "code",
   "execution_count": null,
   "id": "9fdb92ab-8b42-415f-94c3-ec256d227e0b",
   "metadata": {},
   "outputs": [],
   "source": []
  },
  {
   "cell_type": "markdown",
   "id": "92d06620-a90a-4ec5-8236-e70eb8b75ecd",
   "metadata": {},
   "source": [
    "## Functions in Regular Expression"
   ]
  },
  {
   "cell_type": "markdown",
   "id": "c8e224b7-e724-4fb3-8e0d-f79b6a4e656d",
   "metadata": {},
   "source": [
    "- The 're' module offers a set of functions that allows us to search a string for a match\n",
    "- there are 4 main functions\n",
    "\n",
    "   1) findall()\n",
    "   2) Search()\n",
    "   3) split()\n",
    "   4) sub()"
   ]
  },
  {
   "cell_type": "markdown",
   "id": "d5ec9e9a-4a54-419e-80d0-88233128bdd9",
   "metadata": {},
   "source": [
    "## findall()"
   ]
  },
  {
   "cell_type": "markdown",
   "id": "97b9b5e8-ce4f-41b2-b644-b5ec351a9c65",
   "metadata": {},
   "source": [
    "- returns a list of containing all matches"
   ]
  },
  {
   "cell_type": "code",
   "execution_count": 10,
   "id": "15d26ba7-2a04-4eda-9bcf-421e49829d25",
   "metadata": {},
   "outputs": [
    {
     "name": "stdin",
     "output_type": "stream",
     "text": [
      "enter the char: Arun\n"
     ]
    },
    {
     "name": "stdout",
     "output_type": "stream",
     "text": [
      "[]\n"
     ]
    }
   ],
   "source": [
    "import re \n",
    "user=input(\"enter the char:\")\n",
    "txt=\"Regular Expression\"\n",
    "x=re.findall(user,txt)\n",
    "print(x)"
   ]
  },
  {
   "cell_type": "code",
   "execution_count": 12,
   "id": "010dd6cd-d6cb-4b9b-9e3f-aa68ca6b4920",
   "metadata": {},
   "outputs": [
    {
     "name": "stdin",
     "output_type": "stream",
     "text": [
      "enter the char: regular expression\n"
     ]
    },
    {
     "name": "stdout",
     "output_type": "stream",
     "text": [
      "matched ['regular expression']\n"
     ]
    }
   ],
   "source": [
    "import re \n",
    "user=input(\"enter the char:\")\n",
    "txt=\"regular expression\"\n",
    "x=re.findall(user,txt)\n",
    "if x:\n",
    "    print(\"matched\",x)\n",
    "else:\n",
    "    print(\"not matched\",x)"
   ]
  },
  {
   "cell_type": "code",
   "execution_count": null,
   "id": "e53520d6-8a37-4789-bdfd-3184a2dce24c",
   "metadata": {},
   "outputs": [],
   "source": []
  },
  {
   "cell_type": "markdown",
   "id": "71e329c2-0400-4b86-b83a-c92fec2c3dc4",
   "metadata": {},
   "source": [
    "## search()"
   ]
  },
  {
   "cell_type": "markdown",
   "id": "922e69ca-7242-4d87-8f67-361a08a20258",
   "metadata": {},
   "source": [
    "- Searches for the string for a match and returns a match object,if there is a match\n",
    "- If there is more than one match ,only the first occurence of the match will be returned"
   ]
  },
  {
   "cell_type": "code",
   "execution_count": 28,
   "id": "8afaebc9-b106-44e6-b28f-87e4ddc92095",
   "metadata": {},
   "outputs": [
    {
     "name": "stdout",
     "output_type": "stream",
     "text": [
      "7\n"
     ]
    }
   ],
   "source": [
    "import re\n",
    "A=\"lenova company\"\n",
    "x=re.search('c',A)\n",
    "print(x.start())"
   ]
  },
  {
   "cell_type": "code",
   "execution_count": 30,
   "id": "e6e8ddff-ad40-47a8-8a2f-f5e0398574a5",
   "metadata": {},
   "outputs": [
    {
     "name": "stdout",
     "output_type": "stream",
     "text": [
      "5\n"
     ]
    }
   ],
   "source": [
    "A=\"Arun_Goud\"\n",
    "x=re.search('G',A)\n",
    "print(x.start())"
   ]
  },
  {
   "cell_type": "code",
   "execution_count": null,
   "id": "9b4f6c55-4a5c-4789-9100-2238c673fac7",
   "metadata": {},
   "outputs": [],
   "source": []
  },
  {
   "cell_type": "code",
   "execution_count": null,
   "id": "de152277-c361-4918-aa6d-b8aa3d26faed",
   "metadata": {},
   "outputs": [],
   "source": []
  },
  {
   "cell_type": "markdown",
   "id": "3c5dc588-8dfc-4167-8f73-5d83f0ea1b5b",
   "metadata": {},
   "source": [
    "## split()"
   ]
  },
  {
   "cell_type": "markdown",
   "id": "a680702c-89df-4e07-9d7a-51c4658d9a36",
   "metadata": {},
   "source": [
    "- used to return a list where the string has been split at each match"
   ]
  },
  {
   "cell_type": "code",
   "execution_count": null,
   "id": "94958cfb-f3e3-42df-8db0-2e5320eac1b3",
   "metadata": {},
   "outputs": [],
   "source": []
  },
  {
   "cell_type": "code",
   "execution_count": 44,
   "id": "71111517-f78a-4fd2-b4fc-1d3213ac9ef4",
   "metadata": {},
   "outputs": [
    {
     "name": "stdout",
     "output_type": "stream",
     "text": [
      "['Arun_', 'oud']\n"
     ]
    }
   ],
   "source": [
    "A=\"Arun_Goud\"\n",
    "x=re.split('G',A)\n",
    "print(x)"
   ]
  },
  {
   "cell_type": "code",
   "execution_count": null,
   "id": "e3f75eeb-c4de-4a55-9aff-9741a01a74e6",
   "metadata": {},
   "outputs": [],
   "source": []
  },
  {
   "cell_type": "code",
   "execution_count": 50,
   "id": "18d871d4-ac50-4117-9f85-bc43ceb7ee86",
   "metadata": {},
   "outputs": [
    {
     "name": "stdout",
     "output_type": "stream",
     "text": [
      "['Riy', '', '']\n"
     ]
    }
   ],
   "source": [
    "A=\"Riyaa\"\n",
    "x=re.split('a',A)\n",
    "print(x)"
   ]
  },
  {
   "cell_type": "code",
   "execution_count": null,
   "id": "d5a3d8f4-faaa-44a7-8b7b-9b87a739e884",
   "metadata": {},
   "outputs": [],
   "source": []
  },
  {
   "cell_type": "code",
   "execution_count": null,
   "id": "0c5887bf-b5a1-4896-bac6-79aa4ffbc713",
   "metadata": {},
   "outputs": [],
   "source": []
  },
  {
   "cell_type": "markdown",
   "id": "5060ccdd-c8de-4161-85e3-c704b8aa9768",
   "metadata": {},
   "source": [
    "## sub()"
   ]
  },
  {
   "cell_type": "markdown",
   "id": "e7a274d9-a6a9-4b32-a00f-d721220386c0",
   "metadata": {},
   "source": [
    "- replaces the matches with the text of your choice"
   ]
  },
  {
   "cell_type": "code",
   "execution_count": null,
   "id": "e8581efe-488d-49b4-8a29-6c39d2187681",
   "metadata": {},
   "outputs": [],
   "source": []
  },
  {
   "cell_type": "code",
   "execution_count": 54,
   "id": "3b3becca-8751-4f3e-a824-609a24e07589",
   "metadata": {},
   "outputs": [
    {
     "name": "stdout",
     "output_type": "stream",
     "text": [
      "Arun_Aoud\n"
     ]
    }
   ],
   "source": [
    "A=\"Arun_Goud\"\n",
    "x=re.sub('G',A',A)\n",
    "print(x)"
   ]
  },
  {
   "cell_type": "code",
   "execution_count": 59,
   "id": "7c39e55c-cf84-4547-ae82-fa255dc7696d",
   "metadata": {},
   "outputs": [
    {
     "name": "stdout",
     "output_type": "stream",
     "text": [
      "tuis is  india\n"
     ]
    }
   ],
   "source": [
    "import re\n",
    "txt=\"this is  india\"\n",
    "x=re.sub(\"h\",\"u\",txt)\n",
    "print(x)"
   ]
  },
  {
   "cell_type": "code",
   "execution_count": null,
   "id": "711138a0-5ab7-496d-9312-81cd90c52f15",
   "metadata": {},
   "outputs": [],
   "source": []
  }
 ],
 "metadata": {
  "kernelspec": {
   "display_name": "Python 3 (ipykernel)",
   "language": "python",
   "name": "python3"
  },
  "language_info": {
   "codemirror_mode": {
    "name": "ipython",
    "version": 3
   },
   "file_extension": ".py",
   "mimetype": "text/x-python",
   "name": "python",
   "nbconvert_exporter": "python",
   "pygments_lexer": "ipython3",
   "version": "3.12.4"
  }
 },
 "nbformat": 4,
 "nbformat_minor": 5
}
