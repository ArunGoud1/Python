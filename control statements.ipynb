{
 "cells": [
  {
   "cell_type": "markdown",
   "id": "74066594-07ca-4cb0-b0cc-abd9fdaedba0",
   "metadata": {},
   "source": [
    "## Control statements."
   ]
  },
  {
   "cell_type": "code",
   "execution_count": null,
   "id": "5c9ce006-ff7a-4179-aa1e-af1f01c7bbad",
   "metadata": {},
   "outputs": [],
   "source": []
  },
  {
   "cell_type": "markdown",
   "id": "fcc3c37c-1a06-4391-a58a-fcc02c502a54",
   "metadata": {},
   "source": [
    "- it is used to control the block of code.\n",
    "- there are 3 types of control stattements.\n",
    "\n",
    "  1) Pass.\n",
    "  2) Continue.\n",
    "  3) break.\n",
    " \n",
    "\n",
    "  "
   ]
  },
  {
   "cell_type": "markdown",
   "id": "e36f1fee-baae-4abe-b68f-cb3e18af599c",
   "metadata": {},
   "source": [
    "## Pass"
   ]
  },
  {
   "cell_type": "markdown",
   "id": "34a8261b-6199-46ea-8d27-3cc6ac2066a3",
   "metadata": {},
   "source": [
    "- It will pass the particular step in code. "
   ]
  },
  {
   "cell_type": "code",
   "execution_count": 8,
   "id": "14f7fa0e-3492-4843-b68f-410592930797",
   "metadata": {},
   "outputs": [
    {
     "name": "stdout",
     "output_type": "stream",
     "text": [
      "You are an adult Mava\n"
     ]
    }
   ],
   "source": [
    "age = 18\n",
    "\n",
    "if age < 18:\n",
    "    pass \n",
    "else:\n",
    "    print(\"You are an adult Mava\")"
   ]
  },
  {
   "cell_type": "code",
   "execution_count": null,
   "id": "11e01934-146f-4e4a-9086-fe0cd01248ef",
   "metadata": {},
   "outputs": [],
   "source": []
  },
  {
   "cell_type": "markdown",
   "id": "c5da2253-d46f-4f10-aac1-8eae877a5ce2",
   "metadata": {},
   "source": [
    "##  Continue."
   ]
  },
  {
   "cell_type": "code",
   "execution_count": 11,
   "id": "113bdf8e-4621-4a35-91ae-466966a71a6b",
   "metadata": {},
   "outputs": [
    {
     "name": "stdout",
     "output_type": "stream",
     "text": [
      "1\n",
      "3\n",
      "5\n",
      "7\n",
      "9\n"
     ]
    }
   ],
   "source": [
    "for number in range(10):\n",
    "    if number % 2 == 0:\n",
    "        continue  \n",
    "    print(number)"
   ]
  },
  {
   "cell_type": "code",
   "execution_count": 13,
   "id": "4e3d678b-78a8-4178-bcf9-3451b59ae1aa",
   "metadata": {},
   "outputs": [
    {
     "name": "stdout",
     "output_type": "stream",
     "text": [
      "1\n",
      "3\n",
      "5\n",
      "7\n",
      "9\n"
     ]
    }
   ],
   "source": [
    "for number in range(10):\n",
    "    if number % 2 == 0:\n",
    "        continue  \n",
    "    print(number)"
   ]
  },
  {
   "cell_type": "markdown",
   "id": "3e8b8488-81f4-4f56-ac1b-c4ad5963cb23",
   "metadata": {},
   "source": [
    "##  break."
   ]
  },
  {
   "cell_type": "code",
   "execution_count": null,
   "id": "8b3c7a81-97ec-423c-afa4-daf4fd17058d",
   "metadata": {},
   "outputs": [],
   "source": []
  }
 ],
 "metadata": {
  "kernelspec": {
   "display_name": "Python 3 (ipykernel)",
   "language": "python",
   "name": "python3"
  },
  "language_info": {
   "codemirror_mode": {
    "name": "ipython",
    "version": 3
   },
   "file_extension": ".py",
   "mimetype": "text/x-python",
   "name": "python",
   "nbconvert_exporter": "python",
   "pygments_lexer": "ipython3",
   "version": "3.12.4"
  }
 },
 "nbformat": 4,
 "nbformat_minor": 5
}
