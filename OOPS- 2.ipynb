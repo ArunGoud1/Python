{
 "cells": [
  {
   "cell_type": "code",
   "execution_count": null,
   "id": "f3a7fb2f-2bc3-41ad-9588-60754f9ab862",
   "metadata": {},
   "outputs": [],
   "source": []
  },
  {
   "cell_type": "markdown",
   "id": "a0c59777-5154-4994-b816-8b4790525b35",
   "metadata": {},
   "source": [
    "##  Encapsulation ."
   ]
  },
  {
   "cell_type": "code",
   "execution_count": null,
   "id": "eabec95d-ef15-45c7-a9dc-01fe0d358e96",
   "metadata": {},
   "outputs": [],
   "source": []
  },
  {
   "cell_type": "markdown",
   "id": "11c3db29-567a-4f41-843d-0b0797b9d700",
   "metadata": {},
   "source": [
    "-  it used for security purpose.\n",
    "-  wrapping the data and methods in a single unit.\n",
    "-  helps to achieve data hiding.\n",
    "-  we denote attributes using underscore(_).\n",
    "-  we have three types here:\n",
    "     - Public.\n",
    "     - Private.\n",
    "     - Protect.\n",
    " - for proctectiong we use single underscore  ' _ '\n",
    " - for private and public we use double underscore ' __'\n",
    "\n"
   ]
  },
  {
   "cell_type": "code",
   "execution_count": null,
   "id": "6f1b2616-8c23-4947-8ad5-0926295edfcd",
   "metadata": {},
   "outputs": [],
   "source": []
  },
  {
   "cell_type": "markdown",
   "id": "d7a88553-f860-4fc3-b200-d76772f9aedc",
   "metadata": {},
   "source": [
    "class Demo:\n",
    "    def __init__(self, a, b):\n",
    "        self.__a = a  \n",
    "        self._b = b   \n",
    "\n",
    "    def output(self):\n",
    "        print(self._b)\n",
    "        print(self.__a) \n",
    "\n",
    "\n",
    "class Demo1(Demo):\n",
    "    def input(self):\n",
    "        print(self._b)\n",
    "\n",
    "    def private(self):\n",
    "        print(self.__a)\n",
    "\n",
    "A = Demo1(10 , 20)\n",
    "A.output()\n",
    "A.input()"
   ]
  },
  {
   "cell_type": "code",
   "execution_count": null,
   "id": "9331d472-38ca-4743-825a-4e8704fa95ef",
   "metadata": {},
   "outputs": [],
   "source": []
  },
  {
   "cell_type": "markdown",
   "id": "4819557d-899a-4a93-b536-cb31eb2fc02c",
   "metadata": {},
   "source": [
    "## Polymorphism :"
   ]
  },
  {
   "cell_type": "markdown",
   "id": "5ec46ad4-8e86-4602-bf0b-691155133d94",
   "metadata": {},
   "source": [
    "- poly  means \n",
    "- marphism forms.\n",
    "- the same entity can perform different operations in different scenarios"
   ]
  },
  {
   "cell_type": "code",
   "execution_count": null,
   "id": "6acf151f-5809-4983-8219-2eed0bc53cb2",
   "metadata": {},
   "outputs": [],
   "source": []
  },
  {
   "cell_type": "code",
   "execution_count": 22,
   "id": "684edfa2-d056-4056-808e-b9c4e4a8505e",
   "metadata": {},
   "outputs": [],
   "source": [
    "class add:\n",
    "    def add(self,a,b):\n",
    "        print(a+b)\n",
    "\n",
    "a = add()"
   ]
  },
  {
   "cell_type": "code",
   "execution_count": 24,
   "id": "fd9f99ec-0540-48d0-845b-77d097ecba50",
   "metadata": {},
   "outputs": [
    {
     "name": "stdout",
     "output_type": "stream",
     "text": [
      "10\n",
      "ab\n",
      "7.27\n",
      "(7+27j)\n"
     ]
    }
   ],
   "source": [
    "a.add(5,5)\n",
    "a.add('a','b')\n",
    "a.add(3.14,4.13)\n",
    "a.add(3+4j,4+23j)"
   ]
  },
  {
   "cell_type": "code",
   "execution_count": null,
   "id": "e7a50e38-c10e-4315-8bba-cf96a41b274b",
   "metadata": {},
   "outputs": [],
   "source": []
  },
  {
   "cell_type": "markdown",
   "id": "fdc47a92-2457-400d-b5c3-ec5ed1406d93",
   "metadata": {},
   "source": [
    "## Abstraction "
   ]
  },
  {
   "cell_type": "markdown",
   "id": "f42138e4-f174-4a7e-9b83-5d99c47537fe",
   "metadata": {},
   "source": [
    "- Hiding the unnecessary details.\n",
    "- Abstarction allows us to focus on the what an object does rather than how it achieve its functionality"
   ]
  },
  {
   "cell_type": "code",
   "execution_count": 28,
   "id": "5cb4a321-495a-41b1-976e-08706a6b68bb",
   "metadata": {},
   "outputs": [],
   "source": [
    "class car:\n",
    "    def start_engine(self):\n",
    "        pass\n",
    "    def start_drive(self):\n",
    "        pass\n",
    "    def stop_engine(self):\n",
    "        pass"
   ]
  },
  {
   "cell_type": "code",
   "execution_count": null,
   "id": "d8c59c77-164a-4331-9e61-4fab3f2ce392",
   "metadata": {},
   "outputs": [],
   "source": []
  }
 ],
 "metadata": {
  "kernelspec": {
   "display_name": "Python 3 (ipykernel)",
   "language": "python",
   "name": "python3"
  },
  "language_info": {
   "codemirror_mode": {
    "name": "ipython",
    "version": 3
   },
   "file_extension": ".py",
   "mimetype": "text/x-python",
   "name": "python",
   "nbconvert_exporter": "python",
   "pygments_lexer": "ipython3",
   "version": "3.12.4"
  }
 },
 "nbformat": 4,
 "nbformat_minor": 5
}
