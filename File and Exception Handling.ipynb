{
 "cells": [
  {
   "cell_type": "markdown",
   "id": "c2b8c5db-ad69-4402-96d1-06f0ed4335c9",
   "metadata": {},
   "source": [
    "##  File Handling :\n"
   ]
  },
  {
   "cell_type": "markdown",
   "id": "2c590eff-a887-4968-b16c-add1f3fa876b",
   "metadata": {},
   "source": [
    "- In python, file handling involves performing operations when it gets error.\n",
    "- There are 5 types of operations in File handleing.\n",
    "\n",
    "  1) open()\n",
    "  2) read()\n",
    "  3) write()\n",
    "  4) append()\n",
    "  5) close()\n"
   ]
  },
  {
   "cell_type": "code",
   "execution_count": null,
   "id": "b6de9074-fde6-4118-89a8-11e8ed2287e8",
   "metadata": {},
   "outputs": [],
   "source": []
  },
  {
   "cell_type": "markdown",
   "id": "df45464b-0f7a-47e7-b1a0-d7db2a495171",
   "metadata": {},
   "source": [
    "## open()"
   ]
  },
  {
   "cell_type": "markdown",
   "id": "77dbcc93-3fdc-4ade-815f-395ec0ce0b10",
   "metadata": {},
   "source": [
    "- To open file we should use \"open()\" function\n",
    "- This function require at least one argument\n",
    "- you can also specify in which mode the file should be opened."
   ]
  },
  {
   "cell_type": "code",
   "execution_count": 25,
   "id": "c5050c1a-63a0-4650-abd4-181f03e8ff69",
   "metadata": {},
   "outputs": [],
   "source": [
    "file=open('Arun.txt','r')  "
   ]
  },
  {
   "cell_type": "code",
   "execution_count": null,
   "id": "afacd58d-56ea-4f82-84a6-df585f0f202c",
   "metadata": {},
   "outputs": [],
   "source": []
  },
  {
   "cell_type": "markdown",
   "id": "e397b64a-b50d-466d-82f8-0ac2df265f92",
   "metadata": {},
   "source": [
    "## read()"
   ]
  },
  {
   "cell_type": "markdown",
   "id": "1ef4d480-7dd7-48df-a866-391afd1368bd",
   "metadata": {},
   "source": [
    "- There are some types of functions to read the file\n",
    "- they are :\n",
    "\n",
    "   1) read()                         # read the whole file\n",
    "   2) readline()               # to read a particular line\n",
    "   3) readlines()          # to read the all lines in a file\n"
   ]
  },
  {
   "cell_type": "code",
   "execution_count": 27,
   "id": "a866ca0b-8603-47f3-a180-073c5ac03505",
   "metadata": {},
   "outputs": [
    {
     "name": "stdout",
     "output_type": "stream",
     "text": [
      "Data Analyst | Machine Learning Enthusiast | Passionate about Transforming Data into Actionable Insights\n",
      "\n"
     ]
    }
   ],
   "source": [
    "A = file.readline()                      # to read one line\n",
    "print(A)                        "
   ]
  },
  {
   "cell_type": "code",
   "execution_count": 29,
   "id": "fd9d0f79-9ccc-490e-b1fd-195838d014f1",
   "metadata": {},
   "outputs": [
    {
     "name": "stdout",
     "output_type": "stream",
     "text": [
      "['\\n', 'As a driven and results-oriented Data Analyst, I bring hands-on experience in data cleaning, preparation, and advanced analysis using tools like SQL, Python, and Excel. I have some Knowledge in machine learning, processing enables me to tackle complex datasets, extract meaningful insights, and support data-driven decision-making.\\n', '\\n', 'Throughout my career, Iâ€™ve applied machine learning in various projects, from building sentiment analysis models to developing clustering algorithms for social media analytics. I thrive in collaborative environments and am dedicated to automating processes that improve efficiency and elevate business insights.\\n', '\\n', 'Skills Snapshot :\\n', '\\n', 'Programming & Tools: Python, java,SQL, Power BI\\n', 'Machine Learning & NLP: TensorFlow, PyTorch, Scikit-Learn, BERT, LSTM\\n', 'Data Analysis & Visualization: Excel, Google Cloud BigQuery, pandas, NumPy, Matplotlib,seaborn\\n', '\\n', 'With a degree in Computer Science from the Sri Chaitanya Institute of Technology and research Khammam, and my focus is on advancing my expertise in data analysis and machine learning to drive impactful results in real-world applications.\\n', '\\n', 'Letâ€™s Connect! Whether youâ€™re looking to collaborate on data projects or share industry insights, Iâ€™m excited to connect with professionals and explore opportunities in data science and analytics also It-sector']\n"
     ]
    }
   ],
   "source": [
    "B = file.readlines()                      # to read all lines\n",
    "print(B) "
   ]
  },
  {
   "cell_type": "code",
   "execution_count": null,
   "id": "4276002c-5c8b-4896-9dc8-3dd04a02ed13",
   "metadata": {},
   "outputs": [],
   "source": []
  },
  {
   "cell_type": "markdown",
   "id": "a6842003-d755-428a-b76d-1f899d06bcc1",
   "metadata": {},
   "source": [
    "## Write()"
   ]
  },
  {
   "cell_type": "markdown",
   "id": "262c775a-87b5-4d04-aa66-cf915fc7833e",
   "metadata": {},
   "source": [
    "- To write the file , open it and we can use 'w' for write.\n",
    "- In write 'w' mode it will delete the before data and add new data\n",
    "- In append 'a' mode it will add the data to the existing data"
   ]
  },
  {
   "cell_type": "code",
   "execution_count": 57,
   "id": "885e5a9a-6bb2-4303-9fc6-d63c4e8c0f49",
   "metadata": {},
   "outputs": [
    {
     "data": {
      "text/plain": [
       "27"
      ]
     },
     "execution_count": 57,
     "metadata": {},
     "output_type": "execute_result"
    }
   ],
   "source": [
    "file = open('Arun.txt', 'w')\n",
    "file.write(\"riyya evaroo naku telusuu \\n\")"
   ]
  },
  {
   "cell_type": "code",
   "execution_count": 87,
   "id": "25dd35cc-5dcd-4f88-8ffe-2be1abede931",
   "metadata": {},
   "outputs": [
    {
     "data": {
      "text/plain": [
       "23"
      ]
     },
     "execution_count": 87,
     "metadata": {},
     "output_type": "execute_result"
    }
   ],
   "source": [
    "file = open('Arun.txt', 'w')\n",
    "file.write(\"Hi friens this is Arun\\n\")\n",
    "                            "
   ]
  },
  {
   "cell_type": "code",
   "execution_count": 89,
   "id": "ccba256a-0c1f-4440-99cf-0181fca8f022",
   "metadata": {},
   "outputs": [
    {
     "name": "stdout",
     "output_type": "stream",
     "text": [
      "Hi friens this is Arun\n",
      "\n"
     ]
    }
   ],
   "source": [
    "file=open('Arun.txt','r')  \n",
    "A = file.readline()                      # to read one line\n",
    "print(A)                        "
   ]
  },
  {
   "cell_type": "code",
   "execution_count": null,
   "id": "285663da-6c58-4e4c-8fa4-663f84daa5e4",
   "metadata": {},
   "outputs": [],
   "source": []
  },
  {
   "cell_type": "markdown",
   "id": "1074c139-f412-487d-bf7c-6aa6a2056f61",
   "metadata": {},
   "source": [
    "## close()"
   ]
  },
  {
   "cell_type": "markdown",
   "id": "d167ca61-1857-410a-80d6-59ab3f864647",
   "metadata": {},
   "source": [
    "- it is used to close the file."
   ]
  },
  {
   "cell_type": "code",
   "execution_count": 91,
   "id": "4e29660d-cc28-4eec-a82f-dc18853e3799",
   "metadata": {},
   "outputs": [],
   "source": [
    "file.close()"
   ]
  },
  {
   "cell_type": "code",
   "execution_count": null,
   "id": "e57d5016-5d7f-49ac-8884-8aa9a135b2a0",
   "metadata": {},
   "outputs": [],
   "source": []
  },
  {
   "cell_type": "code",
   "execution_count": null,
   "id": "56e9182d-c79b-4b2b-ae7d-bd1c70e76c77",
   "metadata": {},
   "outputs": [],
   "source": []
  },
  {
   "cell_type": "code",
   "execution_count": null,
   "id": "ccc4ba24-4a6b-4324-9e79-a44a8e51153d",
   "metadata": {},
   "outputs": [],
   "source": []
  },
  {
   "cell_type": "code",
   "execution_count": null,
   "id": "063ff4e4-d8c7-4a47-902b-e0597f4fa5c3",
   "metadata": {},
   "outputs": [],
   "source": []
  },
  {
   "cell_type": "markdown",
   "id": "5e660913-b000-4f93-a158-3ce4f0cc4df9",
   "metadata": {},
   "source": [
    "## Exception Handling "
   ]
  },
  {
   "cell_type": "markdown",
   "id": "e9ff6530-979b-4bfa-a902-003c320a29f4",
   "metadata": {},
   "source": [
    "- If an exception occurs when we are performing some operatin with the file the code exists without closing the file\n",
    "- the are 3 types in Exception handling\n",
    "\n",
    "  1) try()\n",
    "  2) except()\n",
    "  3) finally()"
   ]
  },
  {
   "cell_type": "code",
   "execution_count": null,
   "id": "e31fd828-db6c-46b4-be55-954a1f208c03",
   "metadata": {},
   "outputs": [],
   "source": []
  },
  {
   "cell_type": "code",
   "execution_count": 93,
   "id": "2106f199-609f-4456-8fe2-0161ef27771d",
   "metadata": {},
   "outputs": [
    {
     "name": "stdout",
     "output_type": "stream",
     "text": [
      "Hi friens this is Arun\n",
      "\n"
     ]
    }
   ],
   "source": [
    "try:\n",
    "    file = open('Arun.txt', 'r')\n",
    "    read=file.read()\n",
    "    print(read)\n",
    "\n",
    "\n",
    "finally:\n",
    "    file.close()"
   ]
  },
  {
   "cell_type": "code",
   "execution_count": 95,
   "id": "120f5bf1-de3d-4e85-93b6-6b67934694d0",
   "metadata": {},
   "outputs": [
    {
     "name": "stdout",
     "output_type": "stream",
     "text": [
      "given den is zero\n"
     ]
    }
   ],
   "source": [
    "try:\n",
    "    result=num/den\n",
    "    print(result)\n",
    "\n",
    "except:\n",
    "    print(\"given den is zero\")"
   ]
  },
  {
   "cell_type": "code",
   "execution_count": null,
   "id": "1a100b8c-b789-4346-9b81-57ed4f9d527d",
   "metadata": {},
   "outputs": [],
   "source": []
  },
  {
   "cell_type": "code",
   "execution_count": null,
   "id": "9dece93e-da46-46f2-b18f-aab17cb8727c",
   "metadata": {},
   "outputs": [],
   "source": []
  },
  {
   "cell_type": "code",
   "execution_count": null,
   "id": "d7e33af8-e6cf-455c-9cad-b9b8aa0f52d3",
   "metadata": {},
   "outputs": [],
   "source": []
  },
  {
   "cell_type": "code",
   "execution_count": null,
   "id": "b4fe8f32-1104-46ed-8b71-bfa57ac90c20",
   "metadata": {},
   "outputs": [],
   "source": []
  }
 ],
 "metadata": {
  "kernelspec": {
   "display_name": "Python 3 (ipykernel)",
   "language": "python",
   "name": "python3"
  },
  "language_info": {
   "codemirror_mode": {
    "name": "ipython",
    "version": 3
   },
   "file_extension": ".py",
   "mimetype": "text/x-python",
   "name": "python",
   "nbconvert_exporter": "python",
   "pygments_lexer": "ipython3",
   "version": "3.12.4"
  }
 },
 "nbformat": 4,
 "nbformat_minor": 5
}
