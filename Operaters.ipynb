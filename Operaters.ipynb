{
 "cells": [
  {
   "cell_type": "code",
   "execution_count": null,
   "id": "172964dc-0cf5-434c-a38f-526c0cf9f6b3",
   "metadata": {},
   "outputs": [],
   "source": []
  },
  {
   "cell_type": "code",
   "execution_count": 60,
   "id": "a6d7a22c-f061-43e7-bf93-3bc86b03fe57",
   "metadata": {},
   "outputs": [
    {
     "name": "stdout",
     "output_type": "stream",
     "text": [
      "12\n"
     ]
    }
   ],
   "source": [
    "\n",
    "\n",
    "print(78 & 12)"
   ]
  },
  {
   "cell_type": "code",
   "execution_count": 62,
   "id": "6a02fce1-28f8-46cd-964e-f3bd0f16d6b3",
   "metadata": {},
   "outputs": [
    {
     "name": "stdout",
     "output_type": "stream",
     "text": [
      "78\n"
     ]
    }
   ],
   "source": [
    "print(78|12)"
   ]
  },
  {
   "cell_type": "code",
   "execution_count": 64,
   "id": "8eace11c-ad77-471a-81cf-b7f94d9071b8",
   "metadata": {},
   "outputs": [
    {
     "name": "stdout",
     "output_type": "stream",
     "text": [
      "1025\n"
     ]
    }
   ],
   "source": [
    "print(1024|1)"
   ]
  },
  {
   "cell_type": "code",
   "execution_count": 66,
   "id": "2558b128-79b0-4b85-8ef5-a9a1a3fbf6ad",
   "metadata": {},
   "outputs": [
    {
     "name": "stdout",
     "output_type": "stream",
     "text": [
      "2016\n"
     ]
    }
   ],
   "source": [
    "print(2024&2023)"
   ]
  },
  {
   "cell_type": "code",
   "execution_count": 68,
   "id": "70173f22-e5e1-4d1a-9db8-e3836449bd30",
   "metadata": {},
   "outputs": [
    {
     "name": "stdout",
     "output_type": "stream",
     "text": [
      "2016\n"
     ]
    }
   ],
   "source": [
    "print(2024&2023)"
   ]
  },
  {
   "cell_type": "code",
   "execution_count": null,
   "id": "64fcd3cb-037d-4d0c-abc8-49e3f45b8b6f",
   "metadata": {},
   "outputs": [],
   "source": []
  },
  {
   "cell_type": "code",
   "execution_count": null,
   "id": "8bb50ad2-a8b5-406e-adce-9001eab0150c",
   "metadata": {},
   "outputs": [],
   "source": []
  },
  {
   "cell_type": "code",
   "execution_count": null,
   "id": "9da47bb8-cfd1-42c4-8969-3020c2844559",
   "metadata": {},
   "outputs": [],
   "source": []
  },
  {
   "cell_type": "markdown",
   "id": "6d06421a-68a5-4de9-b70a-c8ead8055520",
   "metadata": {},
   "source": [
    "##  OPERATORS :"
   ]
  },
  {
   "cell_type": "code",
   "execution_count": null,
   "id": "9bff8634-9bc1-498b-9912-6623ff594610",
   "metadata": {},
   "outputs": [],
   "source": []
  },
  {
   "cell_type": "markdown",
   "id": "60f93bc3-fbe3-4047-9576-9abde6197534",
   "metadata": {},
   "source": [
    "- Used to perform operations between variables / values .\n",
    "- there are 7 types of operators.\n",
    "  \n",
    "  1) Arithmetic operators\n",
    "  2) logical operators\n",
    "  3) comparsion operators.\n",
    "  4) Assignment operators.\n",
    "  5) Membership operators.\n",
    "  6) Identical operators\n",
    "  7) Bitwise operators.\n",
    "  "
   ]
  },
  {
   "cell_type": "code",
   "execution_count": null,
   "id": "0339284e-76a0-4416-b93d-524a2999dd33",
   "metadata": {},
   "outputs": [],
   "source": []
  },
  {
   "cell_type": "markdown",
   "id": "4f62cd16-234a-4f77-b02f-382e130e64b7",
   "metadata": {},
   "source": [
    "## 1) Arithmetic operators."
   ]
  },
  {
   "cell_type": "markdown",
   "id": "04465577-75b3-47cd-a615-dfd8c8f97fbf",
   "metadata": {},
   "source": [
    "- Arithmetic operators are used with numeric values to perform common operators.\n",
    "- there are 7 types of arithmetic operators.\n",
    "\n",
    "     1) Addition - +\n",
    "     2) Substraction - -\n",
    "     3) Multiplication - * \n",
    "     4) Division - /\n",
    "     5) Float Division- //\n",
    "     6) Exponention - **\n",
    "     7) Modulo division - %"
   ]
  },
  {
   "cell_type": "code",
   "execution_count": null,
   "id": "43c12617-b09c-421d-8698-b7be4d1134ad",
   "metadata": {},
   "outputs": [],
   "source": []
  },
  {
   "cell_type": "code",
   "execution_count": null,
   "id": "eeb2ec62-02c0-4af5-8de4-0abad8c7e8a5",
   "metadata": {},
   "outputs": [],
   "source": []
  },
  {
   "cell_type": "code",
   "execution_count": 107,
   "id": "2acc2525-e85d-4bdc-b32e-f00ed7bf7589",
   "metadata": {},
   "outputs": [
    {
     "name": "stdout",
     "output_type": "stream",
     "text": [
      "14\n"
     ]
    }
   ],
   "source": [
    "a= 10\n",
    "b= 4\n",
    "\n",
    "print(a+b)  ## Addition"
   ]
  },
  {
   "cell_type": "code",
   "execution_count": 109,
   "id": "da2e4812-6a47-4bb8-b265-65e6f70e2578",
   "metadata": {},
   "outputs": [
    {
     "name": "stdout",
     "output_type": "stream",
     "text": [
      "6\n"
     ]
    }
   ],
   "source": [
    "print(a-b)  ## Substraction"
   ]
  },
  {
   "cell_type": "code",
   "execution_count": 111,
   "id": "83dfa171-2795-4b7f-b93d-9809bd67a6a8",
   "metadata": {},
   "outputs": [
    {
     "name": "stdout",
     "output_type": "stream",
     "text": [
      "40\n"
     ]
    }
   ],
   "source": [
    "print(a*b)  ## Multiplication"
   ]
  },
  {
   "cell_type": "code",
   "execution_count": 113,
   "id": "2c968304-7f97-4c25-b43e-ba31ab377742",
   "metadata": {},
   "outputs": [
    {
     "name": "stdout",
     "output_type": "stream",
     "text": [
      "2.5\n"
     ]
    }
   ],
   "source": [
    "print(a/b)  ## Division"
   ]
  },
  {
   "cell_type": "code",
   "execution_count": 115,
   "id": "81baa815-8e7e-4afb-b09a-038a4a294f12",
   "metadata": {},
   "outputs": [
    {
     "name": "stdout",
     "output_type": "stream",
     "text": [
      "2\n"
     ]
    }
   ],
   "source": [
    "print(a//b)  ## float Divion"
   ]
  },
  {
   "cell_type": "code",
   "execution_count": 117,
   "id": "b4d9c478-d318-4f5b-96a1-46f15d4f3a08",
   "metadata": {},
   "outputs": [
    {
     "name": "stdout",
     "output_type": "stream",
     "text": [
      "10000\n"
     ]
    }
   ],
   "source": [
    "print(a**b)  ## Exponention"
   ]
  },
  {
   "cell_type": "code",
   "execution_count": 121,
   "id": "e4847d3d-1ecc-4d8e-9f0d-c5b5baf99822",
   "metadata": {},
   "outputs": [
    {
     "name": "stdout",
     "output_type": "stream",
     "text": [
      "2\n"
     ]
    }
   ],
   "source": [
    "print(a%b)  ## Modulo Division"
   ]
  },
  {
   "cell_type": "code",
   "execution_count": null,
   "id": "9b3b7205-c845-47d1-bc7f-d22412043a67",
   "metadata": {},
   "outputs": [],
   "source": []
  },
  {
   "cell_type": "markdown",
   "id": "11e551ab-f38d-4d13-8888-ba432b56a7f9",
   "metadata": {},
   "source": [
    "## Comparision Operator "
   ]
  },
  {
   "cell_type": "markdown",
   "id": "8b63f5d7-a552-4837-862f-02f0cb787eb5",
   "metadata": {},
   "source": [
    " - comparing two variables or values with == , > ,<.\n",
    " - connot able to compare using complex numbers\n",
    " - There are 6 types of comparision operations.\n",
    "\n",
    "    1) == (real equal to )\n",
    "    2) != (not equal to)\n",
    "    3)  < (less than )\n",
    "    4) \" > \" (greater than)\n",
    "    5) ' > = '(greater than equal to )\n",
    "    6) <= (Less than equal to )\r\n"
   ]
  },
  {
   "cell_type": "code",
   "execution_count": null,
   "id": "9d60515e-696b-411d-bc04-ff48a0bb9778",
   "metadata": {},
   "outputs": [],
   "source": []
  },
  {
   "cell_type": "code",
   "execution_count": 129,
   "id": "06624f53-414d-4524-aa48-b22eed532e5f",
   "metadata": {},
   "outputs": [],
   "source": [
    "a = 10\n",
    "b = 7"
   ]
  },
  {
   "cell_type": "code",
   "execution_count": 131,
   "id": "95587357-0624-438c-a2df-8991902b7607",
   "metadata": {},
   "outputs": [
    {
     "name": "stdout",
     "output_type": "stream",
     "text": [
      "False\n"
     ]
    }
   ],
   "source": [
    " print(a == b)  #  == (real equal to )"
   ]
  },
  {
   "cell_type": "code",
   "execution_count": 133,
   "id": "4d5a08d6-9241-488c-9e31-42ba2806c4db",
   "metadata": {},
   "outputs": [
    {
     "name": "stdout",
     "output_type": "stream",
     "text": [
      "True\n"
     ]
    }
   ],
   "source": [
    " print(a != b)  #  ! = ( not equal to )"
   ]
  },
  {
   "cell_type": "code",
   "execution_count": 135,
   "id": "ce835b78-e359-46d4-b82b-fd1f86c67b19",
   "metadata": {},
   "outputs": [
    {
     "name": "stdout",
     "output_type": "stream",
     "text": [
      "False\n"
     ]
    }
   ],
   "source": [
    " print(a < b)  #  < (less than equal to )"
   ]
  },
  {
   "cell_type": "code",
   "execution_count": 137,
   "id": "d0cb1f23-2147-4baa-90b6-4b0bb975930f",
   "metadata": {},
   "outputs": [
    {
     "name": "stdout",
     "output_type": "stream",
     "text": [
      "True\n"
     ]
    }
   ],
   "source": [
    " print(a > b)  #  > (Grater than equal to )"
   ]
  },
  {
   "cell_type": "code",
   "execution_count": 139,
   "id": "ac549f10-596b-4522-9995-1b2c8d4120db",
   "metadata": {},
   "outputs": [
    {
     "name": "stdout",
     "output_type": "stream",
     "text": [
      "False\n"
     ]
    }
   ],
   "source": [
    "print(a <= b)  #  <= (less than ore equal to )"
   ]
  },
  {
   "cell_type": "code",
   "execution_count": 141,
   "id": "bebee5fc-7cc4-496e-bcb3-9e664b4fd474",
   "metadata": {},
   "outputs": [
    {
     "name": "stdout",
     "output_type": "stream",
     "text": [
      "True\n"
     ]
    }
   ],
   "source": [
    "print(a >= b)  #  >= (less than equal to )"
   ]
  },
  {
   "cell_type": "code",
   "execution_count": null,
   "id": "a99c81ca-477f-4298-b6eb-4e7b79415522",
   "metadata": {},
   "outputs": [],
   "source": []
  },
  {
   "cell_type": "code",
   "execution_count": null,
   "id": "744d7e3b-69af-43dc-ab16-01caf1529afd",
   "metadata": {},
   "outputs": [],
   "source": []
  },
  {
   "cell_type": "code",
   "execution_count": null,
   "id": "a862fad7-dbd8-4ab0-a26f-402254d1cbda",
   "metadata": {},
   "outputs": [],
   "source": [
    "## Identity operator:"
   ]
  },
  {
   "cell_type": "markdown",
   "id": "0cfe735f-16d8-4062-83b1-dc7483eb1c90",
   "metadata": {},
   "source": [
    "- used to identify whether the value is present or not .\n",
    "- there 2 identity operators\n",
    "  \n",
    "   1)  is\n",
    "   2)  isnot\n",
    " \n",
    "- is : when the value is present then the output is TRUE : when the value is not present then the output is FALSE\n",
    "- is not : when the value is present then the output is FALSE : when the value is present then the output is TRUE"
   ]
  },
  {
   "cell_type": "code",
   "execution_count": 156,
   "id": "de0200b8-0018-4f6b-a260-d43090af689c",
   "metadata": {},
   "outputs": [
    {
     "name": "stdout",
     "output_type": "stream",
     "text": [
      "False\n"
     ]
    }
   ],
   "source": [
    "x=7\n",
    "y=10\n",
    "print(x is y)"
   ]
  },
  {
   "cell_type": "code",
   "execution_count": 158,
   "id": "9e1685e5-220f-43df-96f4-c2b4f83b332d",
   "metadata": {},
   "outputs": [
    {
     "name": "stdout",
     "output_type": "stream",
     "text": [
      "True\n"
     ]
    }
   ],
   "source": [
    "x=14\n",
    "a=14\n",
    "print(x is a)"
   ]
  },
  {
   "cell_type": "code",
   "execution_count": 160,
   "id": "31db14cc-1ec0-44bf-991c-6249f2da1644",
   "metadata": {},
   "outputs": [
    {
     "name": "stdout",
     "output_type": "stream",
     "text": [
      "True\n"
     ]
    }
   ],
   "source": [
    "z=\"Arun\"\n",
    "y=\"Arun\"\n",
    "print(z is y)"
   ]
  },
  {
   "cell_type": "code",
   "execution_count": null,
   "id": "2ef1241c-f08d-49f1-bd03-87985a84ac00",
   "metadata": {},
   "outputs": [],
   "source": []
  },
  {
   "cell_type": "code",
   "execution_count": null,
   "id": "a20bbdd3-6544-470e-96cc-6ec81713450f",
   "metadata": {},
   "outputs": [],
   "source": [
    "j= \" hello\" \n",
    "s=\"hello\"\n",
    "print(j is s)\n"
   ]
  },
  {
   "cell_type": "code",
   "execution_count": 162,
   "id": "cfc1875c-12a2-4fff-8319-e07ff2f05a1c",
   "metadata": {},
   "outputs": [
    {
     "name": "stdout",
     "output_type": "stream",
     "text": [
      "True\n"
     ]
    }
   ],
   "source": [
    "x=7\n",
    "y=10\n",
    "print(x is not y)"
   ]
  },
  {
   "cell_type": "code",
   "execution_count": 164,
   "id": "3644627e-ed0d-45ab-bc24-1e010160dd3d",
   "metadata": {},
   "outputs": [
    {
     "name": "stdout",
     "output_type": "stream",
     "text": [
      "True\n"
     ]
    }
   ],
   "source": [
    "x=777\n",
    "a=777\n",
    "print(x is not a)"
   ]
  },
  {
   "cell_type": "code",
   "execution_count": 166,
   "id": "e836da29-b049-40a0-94a4-753720ef813d",
   "metadata": {},
   "outputs": [
    {
     "name": "stdout",
     "output_type": "stream",
     "text": [
      "False\n"
     ]
    }
   ],
   "source": [
    "z=143\n",
    "y=143\n",
    "print(z is not y)"
   ]
  },
  {
   "cell_type": "code",
   "execution_count": null,
   "id": "01c7e48c-cee7-4854-a2f1-d4b15670ea21",
   "metadata": {},
   "outputs": [],
   "source": []
  },
  {
   "cell_type": "markdown",
   "id": "1cc7eea8-2db5-40bc-93a2-0055b0ed33b7",
   "metadata": {},
   "source": [
    "## Membership Opertor :"
   ]
  },
  {
   "cell_type": "markdown",
   "id": "2ade4ee5-2f8e-4b87-8fc6-c99612b7af77",
   "metadata": {},
   "source": [
    "- used to identify the value is found in the sequence of data or not.\n",
    "- there are two membership operators\n",
    "\n",
    "    1) in\n",
    "    2) not\n",
    " \n",
    "- in : TRUE - when the value is FOUND : FALSE - when the value is NOT FOUND\n",
    "- not in : TRUE - when the value is NOT FOUND : FALSE - when the value is FOUND"
   ]
  },
  {
   "cell_type": "code",
   "execution_count": null,
   "id": "758a4719-ae89-4f7c-b308-f91368d67931",
   "metadata": {},
   "outputs": [],
   "source": []
  },
  {
   "cell_type": "code",
   "execution_count": 174,
   "id": "f34f6871-ce4d-4056-8df6-51db515fb063",
   "metadata": {},
   "outputs": [],
   "source": [
    "A = \"Arun_Goud\""
   ]
  },
  {
   "cell_type": "code",
   "execution_count": 176,
   "id": "6e9bf2fa-491f-49ac-8e2b-488ca6945354",
   "metadata": {},
   "outputs": [
    {
     "name": "stdout",
     "output_type": "stream",
     "text": [
      "True\n"
     ]
    }
   ],
   "source": [
    "print(\"G\" in A)"
   ]
  },
  {
   "cell_type": "code",
   "execution_count": 178,
   "id": "90e4820d-9fcd-4747-b0af-10f742d17027",
   "metadata": {},
   "outputs": [
    {
     "name": "stdout",
     "output_type": "stream",
     "text": [
      "True\n"
     ]
    }
   ],
   "source": [
    "print(\"A\" in A)"
   ]
  },
  {
   "cell_type": "code",
   "execution_count": 180,
   "id": "5f742af5-2208-41d1-b4eb-ba68d4d097c6",
   "metadata": {},
   "outputs": [
    {
     "name": "stdout",
     "output_type": "stream",
     "text": [
      "False\n"
     ]
    }
   ],
   "source": [
    "print(\"G\" not in A)"
   ]
  },
  {
   "cell_type": "code",
   "execution_count": 182,
   "id": "8e859c62-5788-4e5f-a829-a9df2afeec3c",
   "metadata": {},
   "outputs": [
    {
     "name": "stdout",
     "output_type": "stream",
     "text": [
      "True\n"
     ]
    }
   ],
   "source": [
    "print(\"b\" not in A)"
   ]
  },
  {
   "cell_type": "code",
   "execution_count": null,
   "id": "a369ff2a-2bc7-4851-ad8b-e5826a624f5a",
   "metadata": {},
   "outputs": [],
   "source": []
  },
  {
   "cell_type": "code",
   "execution_count": null,
   "id": "616eff28-f22c-4eab-a6f0-d99d60461d15",
   "metadata": {},
   "outputs": [],
   "source": []
  },
  {
   "cell_type": "markdown",
   "id": "96985ede-85da-4dfd-a33b-d4ffca3d74d6",
   "metadata": {},
   "source": [
    "## Bitwise operator :"
   ]
  },
  {
   "cell_type": "markdown",
   "id": "614dcd82-88f2-4a47-9d4c-7f94fac3754f",
   "metadata": {},
   "source": [
    "- Bitwise operators are used to perform bitwise calculations on values.\n",
    "- There are 6 types of bitwise operators\n",
    "\n",
    "   1) AND\n",
    "   2) OR\n",
    "   3) XOR\n",
    "   4) NOT\n",
    "   5) LEFT SHIFT\n",
    "   6) RIGHT SHIFT"
   ]
  },
  {
   "cell_type": "code",
   "execution_count": null,
   "id": "06f9b4c3-b313-48f3-ad26-d91669a4cd73",
   "metadata": {},
   "outputs": [],
   "source": []
  },
  {
   "cell_type": "code",
   "execution_count": null,
   "id": "9850783c-c284-4d86-9385-76e43281f4d3",
   "metadata": {},
   "outputs": [],
   "source": []
  },
  {
   "cell_type": "markdown",
   "id": "01aae918-f67b-4f5c-a4cb-2d79113d7834",
   "metadata": {},
   "source": [
    "##  AND OPERATOR ."
   ]
  },
  {
   "cell_type": "markdown",
   "id": "056da6b5-75e3-4d83-ba4e-484e807f5e6f",
   "metadata": {},
   "source": [
    "- represented by using ( & )\n",
    "- called as BITWISE AND.\n",
    "- If both the values are 1 then output is 1\n",
    "- Either one or both are 0 then output is 0\n",
    "- if x,y are two values and bitwise and for x , y is represented as x & y"
   ]
  },
  {
   "cell_type": "code",
   "execution_count": 207,
   "id": "df6e296f-910f-4f08-9861-a3e77378d7c4",
   "metadata": {},
   "outputs": [
    {
     "name": "stdout",
     "output_type": "stream",
     "text": [
      "4\n"
     ]
    }
   ],
   "source": [
    "a = 100\n",
    "b = 14\n",
    "print(a&b)"
   ]
  },
  {
   "cell_type": "code",
   "execution_count": null,
   "id": "0ff09983-354e-49fc-ab5c-db2a3c748ec2",
   "metadata": {},
   "outputs": [],
   "source": []
  },
  {
   "cell_type": "code",
   "execution_count": 209,
   "id": "c1574bdb-272e-472c-91e7-612f971a796f",
   "metadata": {},
   "outputs": [
    {
     "name": "stdout",
     "output_type": "stream",
     "text": [
      "0\n"
     ]
    }
   ],
   "source": [
    "a = 10\n",
    "b = 4\n",
    "print(a&b)"
   ]
  },
  {
   "cell_type": "code",
   "execution_count": null,
   "id": "2263f390-ad75-4c67-9eeb-3bda8e29de43",
   "metadata": {},
   "outputs": [],
   "source": []
  },
  {
   "cell_type": "code",
   "execution_count": null,
   "id": "bb570735-fcf3-4416-9cc8-114c511f5893",
   "metadata": {},
   "outputs": [],
   "source": []
  },
  {
   "cell_type": "markdown",
   "id": "ae9c0798-0828-492e-b947-ff1b2aa4c81f",
   "metadata": {},
   "source": [
    "## OR operator\n",
    "\n",
    "- represented by using ( | )\n",
    "- called as BITWISE OR.\n",
    "- If both the values are 0 then output is 0\n",
    "- Either one or both are 1 then output is 1\n",
    "- if x,y are two values and bitwise or for x , y is represented as x | y"
   ]
  },
  {
   "cell_type": "code",
   "execution_count": null,
   "id": "34228b7d-1c26-41cf-94f1-4ebd4a20bff9",
   "metadata": {},
   "outputs": [],
   "source": []
  },
  {
   "cell_type": "code",
   "execution_count": 214,
   "id": "d9b4be50-c8cf-4a35-9199-eb39206361ed",
   "metadata": {},
   "outputs": [
    {
     "name": "stdout",
     "output_type": "stream",
     "text": [
      "13\n"
     ]
    }
   ],
   "source": [
    "x=12\n",
    "y=9\n",
    "print(x|y)"
   ]
  },
  {
   "cell_type": "code",
   "execution_count": 212,
   "id": "131f2e61-09fd-4386-a7af-2278b8e0a69a",
   "metadata": {},
   "outputs": [
    {
     "name": "stdout",
     "output_type": "stream",
     "text": [
      "28\n"
     ]
    }
   ],
   "source": [
    "a = 24\n",
    "b = 4\n",
    "print(a|b)"
   ]
  },
  {
   "cell_type": "code",
   "execution_count": null,
   "id": "63acbc29-f058-4255-94cc-ac45e93554bc",
   "metadata": {},
   "outputs": [],
   "source": []
  },
  {
   "cell_type": "code",
   "execution_count": null,
   "id": "c9e5ff1b-4517-4c21-9092-3e758fe9e4ba",
   "metadata": {},
   "outputs": [],
   "source": []
  },
  {
   "cell_type": "markdown",
   "id": "fb61b632-2b8c-4830-8927-d0cb34fee50d",
   "metadata": {},
   "source": [
    "## XOR operator :\n",
    "\n",
    "- represented by using ( ^ )\n",
    "- called as BITWISE XOR.\n",
    "- If both the values are same then output is 0\n",
    "- If both th values are differen then the output is 1.\n",
    "- if x,y are two values and bitwise or for x , y is represented as x ^ y"
   ]
  },
  {
   "cell_type": "code",
   "execution_count": null,
   "id": "0fb46832-e66c-46ea-8eb9-aa97e5bdb343",
   "metadata": {},
   "outputs": [],
   "source": []
  },
  {
   "cell_type": "code",
   "execution_count": 239,
   "id": "adaf0ad7-ea5d-4245-857b-e11b2df494a5",
   "metadata": {},
   "outputs": [
    {
     "name": "stdout",
     "output_type": "stream",
     "text": [
      "106\n"
     ]
    }
   ],
   "source": [
    "a = 100\n",
    "b = 14\n",
    "print(a^b)"
   ]
  },
  {
   "cell_type": "code",
   "execution_count": null,
   "id": "88e8c2f4-014e-4560-931f-cb81329392da",
   "metadata": {},
   "outputs": [],
   "source": []
  },
  {
   "cell_type": "code",
   "execution_count": 241,
   "id": "a779d875-051b-4c0b-a792-767b80d7d2a7",
   "metadata": {},
   "outputs": [
    {
     "name": "stdout",
     "output_type": "stream",
     "text": [
      "8\n"
     ]
    }
   ],
   "source": [
    "x=108\n",
    "y=100\n",
    "print(x^y)"
   ]
  },
  {
   "cell_type": "code",
   "execution_count": null,
   "id": "c1cb8c6c-b869-44bf-8460-5663d0b5fa57",
   "metadata": {},
   "outputs": [],
   "source": []
  },
  {
   "cell_type": "code",
   "execution_count": null,
   "id": "81585c60-766f-43cc-bcef-902ade3be5fb",
   "metadata": {},
   "outputs": [],
   "source": []
  },
  {
   "cell_type": "markdown",
   "id": "d9ac025c-aa24-4f8e-b193-c13f5fb908fc",
   "metadata": {},
   "source": [
    "## NOT operator :\n",
    "\n",
    "- represented by using ( ~ )\n",
    "- called as BITWISE NOT.\n",
    "- If the output is 1 it reverse and gives the output as 0.\n",
    "- If the output is 0 it reverse and gives the output as 1.\n",
    "- if x is a value and bitwise not of x , represented as ~ x.\n"
   ]
  },
  {
   "cell_type": "code",
   "execution_count": null,
   "id": "6be1dc00-5e6b-40dc-8c65-698f58339ae2",
   "metadata": {},
   "outputs": [],
   "source": []
  },
  {
   "cell_type": "code",
   "execution_count": 244,
   "id": "a05c273a-0a0a-47b4-b001-493883b5cefe",
   "metadata": {},
   "outputs": [
    {
     "name": "stdout",
     "output_type": "stream",
     "text": [
      "-235\n"
     ]
    }
   ],
   "source": [
    "\n",
    "s=234\n",
    "print (~s)"
   ]
  },
  {
   "cell_type": "code",
   "execution_count": 246,
   "id": "1e2496e0-76e8-4799-abec-f27d4cb63aae",
   "metadata": {},
   "outputs": [
    {
     "name": "stdout",
     "output_type": "stream",
     "text": [
      "2039\n"
     ]
    }
   ],
   "source": [
    "v=-2040\n",
    "print(~v)"
   ]
  },
  {
   "cell_type": "code",
   "execution_count": null,
   "id": "736b28d8-405e-45c6-9226-ac87a66c88fe",
   "metadata": {},
   "outputs": [],
   "source": []
  },
  {
   "cell_type": "code",
   "execution_count": null,
   "id": "fcd3bbc6-05cd-49d8-8a10-781c5837788a",
   "metadata": {},
   "outputs": [],
   "source": []
  },
  {
   "cell_type": "markdown",
   "id": "615c61b8-bf68-4f58-b115-916ac0df050a",
   "metadata": {},
   "source": [
    "## Bitwise left shift\n",
    "\n",
    "- IT represented by using (\" >> \")\n",
    "- called as BITWISE LEFT SHIFT.\n",
    "- Shifts the bits to the left.\n",
    "- The left shift operator moves all bits in a binary representation to the left by a specified number of positions\n",
    "- if x is a number and we need to do right shift with n then the representation is x<<n."
   ]
  },
  {
   "cell_type": "code",
   "execution_count": null,
   "id": "b1910c1d-85c5-4283-8294-d0ed4250fae8",
   "metadata": {},
   "outputs": [],
   "source": []
  },
  {
   "cell_type": "code",
   "execution_count": 257,
   "id": "8a806b35-4c12-4902-b56a-4e89dc97083d",
   "metadata": {},
   "outputs": [
    {
     "name": "stdout",
     "output_type": "stream",
     "text": [
      "-1007616\n"
     ]
    }
   ],
   "source": [
    "s = -123\n",
    "print(s<<13)"
   ]
  },
  {
   "cell_type": "code",
   "execution_count": null,
   "id": "ca6b3e8f-4671-4030-9632-d830f03ba97c",
   "metadata": {},
   "outputs": [],
   "source": []
  },
  {
   "cell_type": "code",
   "execution_count": 255,
   "id": "1fe741fc-7944-42a4-b856-f6887b5ce034",
   "metadata": {},
   "outputs": [
    {
     "name": "stdout",
     "output_type": "stream",
     "text": [
      "1024\n"
     ]
    }
   ],
   "source": [
    "z=32\n",
    "print(z<<5)"
   ]
  },
  {
   "cell_type": "code",
   "execution_count": null,
   "id": "bfdbc8ab-6b0e-4876-8f23-aff096ac8302",
   "metadata": {},
   "outputs": [],
   "source": []
  },
  {
   "cell_type": "code",
   "execution_count": 259,
   "id": "d73c932f-bb08-4861-aa6a-d5a5753d88e6",
   "metadata": {},
   "outputs": [
    {
     "name": "stdout",
     "output_type": "stream",
     "text": [
      "4128\n"
     ]
    }
   ],
   "source": [
    "a = 258\n",
    "print(a<<4)"
   ]
  },
  {
   "cell_type": "code",
   "execution_count": 261,
   "id": "446eae34-24c9-476a-a99a-1e5a1381f509",
   "metadata": {},
   "outputs": [
    {
     "name": "stdout",
     "output_type": "stream",
     "text": [
      "32000\n"
     ]
    }
   ],
   "source": [
    "A = 2000\n",
    "\n",
    "print(A<<4)"
   ]
  },
  {
   "cell_type": "markdown",
   "id": "3b07a267-c9db-41e3-910d-1113333ec232",
   "metadata": {},
   "source": [
    "## PRECEDENCE RULES\n",
    "- knows which operator need to perform first in the expression\n",
    "- And the operators we ned to do that in an order\n",
    "- we need to give the priority in the given precedence order\n",
    "- so the order is present bellow\n",
    "\n",
    "  1) () - paranthesie\n",
    "  2) ** - exponentional\n",
    "  3) +x,-x,~x - uni plus,uni minus,bitwise not\n",
    "  4) *,/,//,% - Multiplication,division,floor division and modulus\n",
    "  5) +,- - Addition , subtraction\n",
    "  6) <<,>> - Bitwise left and bitwise minus\n",
    "  7) & - Bitwise AND\n",
    "  8) ^ - Bitwise XOR\n",
    "  9) | - Bitwise OR\n",
    "  10) ==,!=,>=,<=,is,is not,in ,not in - operators(idential,membership and assignment)\n",
    "  11) NOT - not\n",
    "  12) AND - and\n",
    "  13) OR - or"
   ]
  },
  {
   "cell_type": "code",
   "execution_count": 266,
   "id": "442b86fe-382f-401c-a566-d107298a0311",
   "metadata": {},
   "outputs": [
    {
     "data": {
      "text/plain": [
       "13.2"
      ]
     },
     "execution_count": 266,
     "metadata": {},
     "output_type": "execute_result"
    }
   ],
   "source": [
    "6+4*(4-1)**2/5"
   ]
  },
  {
   "cell_type": "code",
   "execution_count": 268,
   "id": "3455d2cf-d5a9-4ee0-954f-f21d074c558f",
   "metadata": {},
   "outputs": [
    {
     "data": {
      "text/plain": [
       "9.5"
      ]
     },
     "execution_count": 268,
     "metadata": {},
     "output_type": "execute_result"
    }
   ],
   "source": [
    "(4+2+3)-(4**2-9)+15/2\n"
   ]
  },
  {
   "cell_type": "code",
   "execution_count": 270,
   "id": "73ed8105-0092-4fe5-a393-335bbf397d79",
   "metadata": {},
   "outputs": [
    {
     "data": {
      "text/plain": [
       "69.0"
      ]
     },
     "execution_count": 270,
     "metadata": {},
     "output_type": "execute_result"
    }
   ],
   "source": [
    " (3+5)*(2**3)+10/2"
   ]
  },
  {
   "cell_type": "code",
   "execution_count": null,
   "id": "df6b2969-6ead-4098-9ce9-ffd2c41e4f9a",
   "metadata": {},
   "outputs": [],
   "source": []
  }
 ],
 "metadata": {
  "kernelspec": {
   "display_name": "Python 3 (ipykernel)",
   "language": "python",
   "name": "python3"
  },
  "language_info": {
   "codemirror_mode": {
    "name": "ipython",
    "version": 3
   },
   "file_extension": ".py",
   "mimetype": "text/x-python",
   "name": "python",
   "nbconvert_exporter": "python",
   "pygments_lexer": "ipython3",
   "version": "3.12.4"
  }
 },
 "nbformat": 4,
 "nbformat_minor": 5
}
